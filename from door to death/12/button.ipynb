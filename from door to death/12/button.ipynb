{
 "cells": [
  {
   "cell_type": "code",
   "execution_count": 14,
   "id": "practical-gibson",
   "metadata": {},
   "outputs": [],
   "source": [
    "import pygame.font\n",
    "\n",
    "class Button():\n",
    "    \n",
    "    def __init__(self, ai_settings, screen, msg):\n",
    "        '''初始化按钮的属性'''\n",
    "        self.screen = screen\n",
    "        self.screen_rect = screen.get_rect()\n",
    "        \n",
    "        #设置按钮的尺寸喝其他属性\n",
    "        self.width = 50\n",
    "        self.height = 50\n",
    "        self.button_color = (0 , 255 , 0)\n",
    "        self.text_color = (255 , 255 , 255)\n",
    "        self.font = pygame.font.SysFont(None , 48)\n",
    "        \n",
    "        #创建按钮的rect对象，并使其居中\n",
    "        self.rect = pygame.Rect(0, 0, self.width, self.height)\n",
    "        self.rect.center = self.screen_rect.center\n",
    "        \n",
    "       #按钮的标签只需要创建一次\n",
    "        self.prep_msg(msg)     \n",
    "        \n",
    "    def prep_msg(self , msg):\n",
    "        '''将msg渲染为图像，并使其在按钮上居中'''\n",
    "        self.msg_image = self.font.render(msg , True , self.text_color , self.button_color)\n",
    "        self.msg_image_rect = self.msg_image.get_rect()\n",
    "        self.msg_image_rect.center = self.rect.center\n",
    "            \n",
    "    def draw_button(self):\n",
    "        #绘制一个用颜色填充的按钮，再绘制文本\n",
    "        self.screen.fill(self.button_color , self.rect)\n",
    "        self.screen.blit(self.msg_image , self.msg_image_rect)"
   ]
  },
  {
   "cell_type": "code",
   "execution_count": 15,
   "id": "potential-eleven",
   "metadata": {},
   "outputs": [
    {
     "name": "stderr",
     "output_type": "stream",
     "text": [
      "[NbConvertApp] Converting notebook button.ipynb to python\n",
      "[NbConvertApp] Writing 1327 bytes to button.py\n"
     ]
    }
   ],
   "source": [
    "try:    \n",
    "    !jupyter nbconvert --to python button.ipynb\n",
    "    # python即转化为.py，script即转化为.html\n",
    "    # file_name.ipynb即当前module的文件名\n",
    "except:\n",
    "    pass"
   ]
  },
  {
   "cell_type": "code",
   "execution_count": null,
   "id": "surface-battery",
   "metadata": {},
   "outputs": [],
   "source": []
  }
 ],
 "metadata": {
  "kernelspec": {
   "display_name": "Python 3",
   "language": "python",
   "name": "python3"
  },
  "language_info": {
   "codemirror_mode": {
    "name": "ipython",
    "version": 3
   },
   "file_extension": ".py",
   "mimetype": "text/x-python",
   "name": "python",
   "nbconvert_exporter": "python",
   "pygments_lexer": "ipython3",
   "version": "3.8.8"
  }
 },
 "nbformat": 4,
 "nbformat_minor": 5
}
