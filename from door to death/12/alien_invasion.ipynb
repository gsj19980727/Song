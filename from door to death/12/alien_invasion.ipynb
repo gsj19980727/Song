{
 "cells": [
  {
   "cell_type": "code",
   "execution_count": null,
   "id": "executed-shield",
   "metadata": {},
   "outputs": [],
   "source": [
    "!pip install --user pygame-1.9.2a0-cp35-none-win32.whl -i https://pypi.tuna.tsinghua.edu.cn/simple"
   ]
  },
  {
   "cell_type": "code",
   "execution_count": 1,
   "id": "amber-surgery",
   "metadata": {},
   "outputs": [
    {
     "name": "stdout",
     "output_type": "stream",
     "text": [
      "pygame 2.0.1 (SDL 2.0.14, Python 3.8.8)\n",
      "Hello from the pygame community. https://www.pygame.org/contribute.html\n"
     ]
    },
    {
     "name": "stderr",
     "output_type": "stream",
     "text": [
      "[NbConvertApp] Converting notebook settings.ipynb to python\n",
      "[NbConvertApp] Writing 1592 bytes to settings.py\n",
      "[NbConvertApp] Converting notebook ship.ipynb to python\n",
      "[NbConvertApp] Writing 1612 bytes to ship.py\n",
      "[NbConvertApp] Converting notebook alien.ipynb to python\n",
      "[NbConvertApp] Writing 1588 bytes to alien.py\n",
      "[NbConvertApp] Converting notebook bullet.ipynb to python\n",
      "[NbConvertApp] Writing 1192 bytes to bullet.py\n",
      "[NbConvertApp] Converting notebook game_functions.ipynb to python\n",
      "[NbConvertApp] Writing 7800 bytes to game_functions.py\n",
      "[NbConvertApp] Converting notebook game_stats.ipynb to python\n",
      "[NbConvertApp] Writing 701 bytes to game_stats.py\n",
      "[NbConvertApp] Converting notebook button.ipynb to python\n",
      "[NbConvertApp] Writing 1327 bytes to button.py\n",
      "[NbConvertApp] Converting notebook scoreboard.ipynb to python\n",
      "[NbConvertApp] Writing 2793 bytes to scoreboard.py\n"
     ]
    },
    {
     "name": "stdout",
     "output_type": "stream",
     "text": [
      "75\n",
      "112\n",
      "168\n",
      "252\n",
      "378\n",
      "567\n"
     ]
    },
    {
     "ename": "AttributeError",
     "evalue": "'Ship' object has no attribute 'prep_ships'",
     "output_type": "error",
     "traceback": [
      "\u001b[1;31m---------------------------------------------------------------------------\u001b[0m",
      "\u001b[1;31mAttributeError\u001b[0m                            Traceback (most recent call last)",
      "\u001b[1;32m<ipython-input-1-5121a0ef5f86>\u001b[0m in \u001b[0;36m<module>\u001b[1;34m\u001b[0m\n\u001b[0;32m     51\u001b[0m         \u001b[0mgf\u001b[0m\u001b[1;33m.\u001b[0m\u001b[0mupdate_screen\u001b[0m\u001b[1;33m(\u001b[0m\u001b[0mai_settings\u001b[0m \u001b[1;33m,\u001b[0m \u001b[0mscreen\u001b[0m \u001b[1;33m,\u001b[0m \u001b[0mship\u001b[0m \u001b[1;33m,\u001b[0m \u001b[0maliens\u001b[0m \u001b[1;33m,\u001b[0m \u001b[0mbullets\u001b[0m \u001b[1;33m,\u001b[0m \u001b[0mplay_button\u001b[0m \u001b[1;33m,\u001b[0m \u001b[0mstats\u001b[0m \u001b[1;33m,\u001b[0m \u001b[0msb\u001b[0m\u001b[1;33m)\u001b[0m\u001b[1;33m\u001b[0m\u001b[1;33m\u001b[0m\u001b[0m\n\u001b[0;32m     52\u001b[0m \u001b[1;33m\u001b[0m\u001b[0m\n\u001b[1;32m---> 53\u001b[1;33m \u001b[0mrun_game\u001b[0m\u001b[1;33m(\u001b[0m\u001b[1;33m)\u001b[0m\u001b[1;33m\u001b[0m\u001b[1;33m\u001b[0m\u001b[0m\n\u001b[0m",
      "\u001b[1;32m<ipython-input-1-5121a0ef5f86>\u001b[0m in \u001b[0;36mrun_game\u001b[1;34m()\u001b[0m\n\u001b[0;32m     47\u001b[0m             \u001b[0mship\u001b[0m\u001b[1;33m.\u001b[0m\u001b[0mupdate\u001b[0m\u001b[1;33m(\u001b[0m\u001b[1;33m)\u001b[0m\u001b[1;33m\u001b[0m\u001b[1;33m\u001b[0m\u001b[0m\n\u001b[0;32m     48\u001b[0m             \u001b[0mgf\u001b[0m\u001b[1;33m.\u001b[0m\u001b[0mupdate_bullets\u001b[0m\u001b[1;33m(\u001b[0m\u001b[0mai_settings\u001b[0m\u001b[1;33m,\u001b[0m \u001b[0mscreen\u001b[0m\u001b[1;33m,\u001b[0m \u001b[0mstats\u001b[0m\u001b[1;33m,\u001b[0m \u001b[0msb\u001b[0m\u001b[1;33m,\u001b[0m \u001b[0mship\u001b[0m\u001b[1;33m,\u001b[0m \u001b[0maliens\u001b[0m\u001b[1;33m,\u001b[0m \u001b[0mbullets\u001b[0m\u001b[1;33m)\u001b[0m\u001b[1;33m\u001b[0m\u001b[1;33m\u001b[0m\u001b[0m\n\u001b[1;32m---> 49\u001b[1;33m             \u001b[0mgf\u001b[0m\u001b[1;33m.\u001b[0m\u001b[0mupdate_aliens\u001b[0m\u001b[1;33m(\u001b[0m\u001b[0mai_settings\u001b[0m\u001b[1;33m,\u001b[0m \u001b[0mstats\u001b[0m\u001b[1;33m,\u001b[0m \u001b[0mscreen\u001b[0m\u001b[1;33m,\u001b[0m \u001b[0msb\u001b[0m\u001b[1;33m,\u001b[0m \u001b[0mship\u001b[0m\u001b[1;33m,\u001b[0m \u001b[0maliens\u001b[0m\u001b[1;33m,\u001b[0m \u001b[0mbullets\u001b[0m\u001b[1;33m)\u001b[0m\u001b[1;33m\u001b[0m\u001b[1;33m\u001b[0m\u001b[0m\n\u001b[0m\u001b[0;32m     50\u001b[0m \u001b[1;33m\u001b[0m\u001b[0m\n\u001b[0;32m     51\u001b[0m         \u001b[0mgf\u001b[0m\u001b[1;33m.\u001b[0m\u001b[0mupdate_screen\u001b[0m\u001b[1;33m(\u001b[0m\u001b[0mai_settings\u001b[0m \u001b[1;33m,\u001b[0m \u001b[0mscreen\u001b[0m \u001b[1;33m,\u001b[0m \u001b[0mship\u001b[0m \u001b[1;33m,\u001b[0m \u001b[0maliens\u001b[0m \u001b[1;33m,\u001b[0m \u001b[0mbullets\u001b[0m \u001b[1;33m,\u001b[0m \u001b[0mplay_button\u001b[0m \u001b[1;33m,\u001b[0m \u001b[0mstats\u001b[0m \u001b[1;33m,\u001b[0m \u001b[0msb\u001b[0m\u001b[1;33m)\u001b[0m\u001b[1;33m\u001b[0m\u001b[1;33m\u001b[0m\u001b[0m\n",
      "\u001b[1;32mE:\\L\\12\\game_functions.py\u001b[0m in \u001b[0;36mupdate_aliens\u001b[1;34m(ai_settings, stats, screen, sb, ship, aliens, bullets)\u001b[0m\n\u001b[0;32m    177\u001b[0m         \u001b[0mship_hit\u001b[0m\u001b[1;33m(\u001b[0m\u001b[0mai_settings\u001b[0m\u001b[1;33m,\u001b[0m \u001b[0mstats\u001b[0m\u001b[1;33m,\u001b[0m \u001b[0mscreen\u001b[0m\u001b[1;33m,\u001b[0m \u001b[0msb\u001b[0m\u001b[1;33m,\u001b[0m \u001b[0mship\u001b[0m\u001b[1;33m,\u001b[0m \u001b[0maliens\u001b[0m\u001b[1;33m,\u001b[0m \u001b[0mbullets\u001b[0m\u001b[1;33m)\u001b[0m\u001b[1;33m\u001b[0m\u001b[1;33m\u001b[0m\u001b[0m\n\u001b[0;32m    178\u001b[0m     \u001b[1;31m#检查是否有外星人到达屏幕底端\u001b[0m\u001b[1;33m\u001b[0m\u001b[1;33m\u001b[0m\u001b[1;33m\u001b[0m\u001b[0m\n\u001b[1;32m--> 179\u001b[1;33m     \u001b[0mcheck_aliens_bottom\u001b[0m\u001b[1;33m(\u001b[0m\u001b[0mai_settings\u001b[0m\u001b[1;33m,\u001b[0m \u001b[0mstats\u001b[0m\u001b[1;33m,\u001b[0m \u001b[0mscreen\u001b[0m\u001b[1;33m,\u001b[0m \u001b[0msb\u001b[0m\u001b[1;33m,\u001b[0m \u001b[0mship\u001b[0m\u001b[1;33m,\u001b[0m \u001b[0maliens\u001b[0m\u001b[1;33m,\u001b[0m \u001b[0mbullets\u001b[0m\u001b[1;33m)\u001b[0m\u001b[1;33m\u001b[0m\u001b[1;33m\u001b[0m\u001b[0m\n\u001b[0m\u001b[0;32m    180\u001b[0m \u001b[1;33m\u001b[0m\u001b[0m\n\u001b[0;32m    181\u001b[0m \u001b[1;32mdef\u001b[0m \u001b[0mcheck_fleet_edges\u001b[0m\u001b[1;33m(\u001b[0m\u001b[0mai_settings\u001b[0m\u001b[1;33m,\u001b[0m \u001b[0maliens\u001b[0m\u001b[1;33m)\u001b[0m\u001b[1;33m:\u001b[0m\u001b[1;33m\u001b[0m\u001b[1;33m\u001b[0m\u001b[0m\n",
      "\u001b[1;32mE:\\L\\12\\game_functions.py\u001b[0m in \u001b[0;36mcheck_aliens_bottom\u001b[1;34m(ai_settings, stats, screen, ship, sb, aliens, bullets)\u001b[0m\n\u001b[0;32m    217\u001b[0m         \u001b[1;32mif\u001b[0m \u001b[0malien\u001b[0m\u001b[1;33m.\u001b[0m\u001b[0mrect\u001b[0m\u001b[1;33m.\u001b[0m\u001b[0mbottom\u001b[0m \u001b[1;33m>=\u001b[0m \u001b[0mscreen_rect\u001b[0m\u001b[1;33m.\u001b[0m\u001b[0mbottom\u001b[0m\u001b[1;33m:\u001b[0m\u001b[1;33m\u001b[0m\u001b[1;33m\u001b[0m\u001b[0m\n\u001b[0;32m    218\u001b[0m             \u001b[1;31m#像飞船被撞到一样处理\u001b[0m\u001b[1;33m\u001b[0m\u001b[1;33m\u001b[0m\u001b[1;33m\u001b[0m\u001b[0m\n\u001b[1;32m--> 219\u001b[1;33m             \u001b[0mship_hit\u001b[0m\u001b[1;33m(\u001b[0m\u001b[0mai_settings\u001b[0m\u001b[1;33m,\u001b[0m \u001b[0mstats\u001b[0m\u001b[1;33m,\u001b[0m \u001b[0mscreen\u001b[0m\u001b[1;33m,\u001b[0m \u001b[0msb\u001b[0m\u001b[1;33m,\u001b[0m \u001b[0mship\u001b[0m\u001b[1;33m,\u001b[0m \u001b[0maliens\u001b[0m\u001b[1;33m,\u001b[0m \u001b[0mbullets\u001b[0m\u001b[1;33m)\u001b[0m\u001b[1;33m\u001b[0m\u001b[1;33m\u001b[0m\u001b[0m\n\u001b[0m\u001b[0;32m    220\u001b[0m             \u001b[1;32mbreak\u001b[0m\u001b[1;33m\u001b[0m\u001b[1;33m\u001b[0m\u001b[0m\n\u001b[0;32m    221\u001b[0m \u001b[1;33m\u001b[0m\u001b[0m\n",
      "\u001b[1;32mE:\\L\\12\\game_functions.py\u001b[0m in \u001b[0;36mship_hit\u001b[1;34m(ai_settings, stats, screen, sb, ship, aliens, bullets)\u001b[0m\n\u001b[0;32m    198\u001b[0m         \u001b[0mstats\u001b[0m\u001b[1;33m.\u001b[0m\u001b[0mships_left\u001b[0m \u001b[1;33m-=\u001b[0m \u001b[1;36m1\u001b[0m\u001b[1;33m\u001b[0m\u001b[1;33m\u001b[0m\u001b[0m\n\u001b[0;32m    199\u001b[0m         \u001b[1;31m#更新记分牌\u001b[0m\u001b[1;33m\u001b[0m\u001b[1;33m\u001b[0m\u001b[1;33m\u001b[0m\u001b[0m\n\u001b[1;32m--> 200\u001b[1;33m         \u001b[0msb\u001b[0m\u001b[1;33m.\u001b[0m\u001b[0mprep_ships\u001b[0m\u001b[1;33m(\u001b[0m\u001b[1;33m)\u001b[0m\u001b[1;33m\u001b[0m\u001b[1;33m\u001b[0m\u001b[0m\n\u001b[0m\u001b[0;32m    201\u001b[0m         \u001b[1;31m#清空外星人列表和子弹列表\u001b[0m\u001b[1;33m\u001b[0m\u001b[1;33m\u001b[0m\u001b[1;33m\u001b[0m\u001b[0m\n\u001b[0;32m    202\u001b[0m         \u001b[0maliens\u001b[0m\u001b[1;33m.\u001b[0m\u001b[0mempty\u001b[0m\u001b[1;33m(\u001b[0m\u001b[1;33m)\u001b[0m\u001b[1;33m\u001b[0m\u001b[1;33m\u001b[0m\u001b[0m\n",
      "\u001b[1;31mAttributeError\u001b[0m: 'Ship' object has no attribute 'prep_ships'"
     ]
    }
   ],
   "source": [
    "import sys\n",
    "import pygame\n",
    "\n",
    "from settings import Settings\n",
    "from ship import Ship\n",
    "from alien import Alien\n",
    "import game_functions as gf\n",
    "from pygame.sprite import Group\n",
    "from game_stats import GameStats\n",
    "from button import Button\n",
    "from scoreboard import Scoreboard\n",
    "def run_game():\n",
    "    #初始化游戏并创建一个屏幕对象\n",
    "    pygame.init()\n",
    "    ai_settings = Settings()\n",
    "    screen = pygame.display.set_mode((ai_settings.screen_width , ai_settings.screen_height))\n",
    "    pygame.display.set_caption(\"Alien Invasion\")\n",
    "    \n",
    "    #创建飞船\n",
    "    ship = Ship(ai_settings , screen)\n",
    "    \n",
    "    #创建一个用于存储子弹的编组\n",
    "    bullets = Group()\n",
    "    \n",
    "    #创建一个外星人\n",
    "    alien = Alien(ai_settings, screen)\n",
    "    \n",
    "    #创建一艘飞船/一个子弹编组和一个外星人编组\n",
    "    ship = Ship(ai_settings, screen)\n",
    "    bullets = Group()\n",
    "    aliens = Group()\n",
    "    \n",
    "    #创建外星人群\n",
    "    gf.create_fleet(ai_settings, screen, ship, aliens)\n",
    "    \n",
    "    #创建一个用于储存游戏统计信息的实例,并创建记分牌\n",
    "    stats = GameStats(ai_settings)\n",
    "    sb = Scoreboard(ai_settings, screen, stats)\n",
    "    \n",
    "    #创建play按钮\n",
    "    play_button = Button(ai_settings, screen, \"Play\")\n",
    "    \n",
    "    #开始游戏的主循环\n",
    "    while True:\n",
    "        gf.check_events(ai_settings, screen, stats, sb, play_button, ship, aliens, bullets)\n",
    "        if stats.game_active:\n",
    "            ship.update()\n",
    "            gf.update_bullets(ai_settings, screen, stats, sb, ship, aliens, bullets)\n",
    "            gf.update_aliens(ai_settings, stats, screen, sb, ship, aliens, bullets)\n",
    "            \n",
    "        gf.update_screen(ai_settings , screen , ship , aliens , bullets , play_button , stats , sb)\n",
    "        \n",
    "run_game()"
   ]
  },
  {
   "cell_type": "code",
   "execution_count": null,
   "id": "convertible-toilet",
   "metadata": {},
   "outputs": [],
   "source": []
  },
  {
   "cell_type": "code",
   "execution_count": null,
   "id": "thousand-pricing",
   "metadata": {},
   "outputs": [],
   "source": []
  }
 ],
 "metadata": {
  "kernelspec": {
   "display_name": "Python 3",
   "language": "python",
   "name": "python3"
  },
  "language_info": {
   "codemirror_mode": {
    "name": "ipython",
    "version": 3
   },
   "file_extension": ".py",
   "mimetype": "text/x-python",
   "name": "python",
   "nbconvert_exporter": "python",
   "pygments_lexer": "ipython3",
   "version": "3.8.8"
  }
 },
 "nbformat": 4,
 "nbformat_minor": 5
}
