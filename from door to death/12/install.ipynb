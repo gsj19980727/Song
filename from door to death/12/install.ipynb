{
 "cells": [
  {
   "cell_type": "code",
   "execution_count": 1,
   "id": "understood-burke",
   "metadata": {},
   "outputs": [
    {
     "name": "stderr",
     "output_type": "stream",
     "text": [
      "Traceback (most recent call last):\n",
      "  File \"C:\\Users\\77429\\anaconda3\\envs\\tf1.0\\Scripts\\pip-script.py\", line 10, in <module>\n",
      "    sys.exit(main())\n",
      "  File \"C:\\Users\\77429\\anaconda3\\envs\\tf1.0\\lib\\site-packages\\pip\\_internal\\cli\\main.py\", line 71, in main\n",
      "    command = create_command(cmd_name, isolated=(\"--isolated\" in cmd_args))\n",
      "  File \"C:\\Users\\77429\\anaconda3\\envs\\tf1.0\\lib\\site-packages\\pip\\_internal\\commands\\__init__.py\", line 96, in create_command\n",
      "    module = importlib.import_module(module_path)\n",
      "  File \"C:\\Users\\77429\\anaconda3\\envs\\tf1.0\\lib\\importlib\\__init__.py\", line 127, in import_module\n",
      "    return _bootstrap._gcd_import(name[level:], package, level)\n",
      "  File \"<frozen importlib._bootstrap>\", line 1014, in _gcd_import\n",
      "  File \"<frozen importlib._bootstrap>\", line 991, in _find_and_load\n",
      "  File \"<frozen importlib._bootstrap>\", line 975, in _find_and_load_unlocked\n",
      "  File \"<frozen importlib._bootstrap>\", line 671, in _load_unlocked\n",
      "  File \"<frozen importlib._bootstrap_external>\", line 783, in exec_module\n",
      "  File \"<frozen importlib._bootstrap>\", line 219, in _call_with_frames_removed\n",
      "  File \"C:\\Users\\77429\\anaconda3\\envs\\tf1.0\\lib\\site-packages\\pip\\_internal\\commands\\install.py\", line 15, in <module>\n",
      "    from pip._internal.cli.req_command import RequirementCommand, with_cleanup\n",
      "  File \"C:\\Users\\77429\\anaconda3\\envs\\tf1.0\\lib\\site-packages\\pip\\_internal\\cli\\req_command.py\", line 16, in <module>\n",
      "    from pip._internal.index.collector import LinkCollector\n",
      "  File \"C:\\Users\\77429\\anaconda3\\envs\\tf1.0\\lib\\site-packages\\pip\\_internal\\index\\collector.py\", line 16, in <module>\n",
      "    from pip._vendor import html5lib, requests\n",
      "  File \"C:\\Users\\77429\\anaconda3\\envs\\tf1.0\\lib\\site-packages\\pip\\_vendor\\requests\\__init__.py\", line 43, in <module>\n",
      "    from pip._vendor import urllib3\n",
      "  File \"C:\\Users\\77429\\anaconda3\\envs\\tf1.0\\lib\\site-packages\\pip\\_vendor\\urllib3\\__init__.py\", line 13, in <module>\n",
      "    from .connectionpool import HTTPConnectionPool, HTTPSConnectionPool, connection_from_url\n",
      "  File \"C:\\Users\\77429\\anaconda3\\envs\\tf1.0\\lib\\site-packages\\pip\\_vendor\\urllib3\\connectionpool.py\", line 40, in <module>\n",
      "    from .response import HTTPResponse\n",
      "  File \"C:\\Users\\77429\\anaconda3\\envs\\tf1.0\\lib\\site-packages\\pip\\_vendor\\urllib3\\response.py\", line 157, in <module>\n",
      "    class HTTPResponse(io.IOBase):\n",
      "  File \"C:\\Users\\77429\\anaconda3\\envs\\tf1.0\\lib\\site-packages\\pip\\_vendor\\urllib3\\response.py\", line 390, in HTTPResponse\n",
      "    DECODER_ERROR_CLASSES += (brotli.error,)\n",
      "AttributeError: module 'brotli' has no attribute 'error'\n"
     ]
    }
   ],
   "source": [
    "!pip install --user pygame-1.9.2a0-cp35-none-win32.whl -i https://pypi.tuna.tsinghua.edu.cn/simple"
   ]
  },
  {
   "cell_type": "code",
   "execution_count": null,
   "id": "moderate-multiple",
   "metadata": {},
   "outputs": [],
   "source": []
  }
 ],
 "metadata": {
  "kernelspec": {
   "display_name": "Python 3",
   "language": "python",
   "name": "python3"
  },
  "language_info": {
   "codemirror_mode": {
    "name": "ipython",
    "version": 3
   },
   "file_extension": ".py",
   "mimetype": "text/x-python",
   "name": "python",
   "nbconvert_exporter": "python",
   "pygments_lexer": "ipython3",
   "version": "3.8.8"
  }
 },
 "nbformat": 4,
 "nbformat_minor": 5
}
