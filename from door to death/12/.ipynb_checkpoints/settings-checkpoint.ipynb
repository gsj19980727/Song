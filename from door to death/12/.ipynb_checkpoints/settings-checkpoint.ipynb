{
 "cells": [
  {
   "cell_type": "code",
   "execution_count": 7,
   "id": "sharing-cover",
   "metadata": {},
   "outputs": [],
   "source": [
    "class Settings():\n",
    "    '''存储《外星人入侵》的所有设置的类'''\n",
    "    \n",
    "    def __init__(self):\n",
    "        '''初始化游戏的静态设置'''\n",
    "        #屏幕设置\n",
    "        self.screen_width = 1200\n",
    "        self.screen_height = 800\n",
    "        self.bg_color = (230 , 230 , 230)\n",
    "        #飞船的设置\n",
    "        self.ship_limit = 3\n",
    "        \n",
    "        #子弹设置\n",
    "        self.bullet_width = 3\n",
    "        self.bullet_height = 15\n",
    "        self.bullet_color = 60 , 60 , 60\n",
    "        self.bullets_allowed = 3\n",
    "        \n",
    "        #外星人设置        \n",
    "        self.fleet_drop_speed = 10\n",
    "                \n",
    "        #以什么样的速度加快游戏节奏\n",
    "        self.speedup_scale = 1.1\n",
    "        \n",
    "        #记分\n",
    "        self.alien_points = 50\n",
    "                \n",
    "        self.initialize_dynamic_settings()\n",
    "        \n",
    "    def initialize_dynamic_settings(self):\n",
    "        '''初始化随游戏进行而变化的设置'''\n",
    "        self.ship_speed_factor = 1.5\n",
    "        self.bullet_speed_factor = 3\n",
    "        self.alien_speed_factor = 1\n",
    "        \n",
    "        #fleet_direction为1表示向右移，为-1表示向左移\n",
    "        self.fleet_direction = 1\n",
    "        \n",
    "    def increase_speed(self):\n",
    "        '''提高速度设置'''\n",
    "        self.ship_speed_factor *= self.speedup_scale\n",
    "        self.bullet_speed_factor *= self.speedup_scale\n",
    "        self.alien_speed_factor *= self.speedup_scale"
   ]
  },
  {
   "cell_type": "code",
   "execution_count": 8,
   "id": "compound-arabic",
   "metadata": {},
   "outputs": [
    {
     "name": "stderr",
     "output_type": "stream",
     "text": [
      "[NbConvertApp] Converting notebook settings.ipynb to python\n",
      "[NbConvertApp] Writing 1419 bytes to settings.py\n"
     ]
    }
   ],
   "source": [
    "try:    \n",
    "    !jupyter nbconvert --to python settings.ipynb\n",
    "    # python即转化为.py，script即转化为.html\n",
    "    # file_name.ipynb即当前module的文件名\n",
    "except:\n",
    "    pass"
   ]
  },
  {
   "cell_type": "code",
   "execution_count": null,
   "id": "absolute-eight",
   "metadata": {},
   "outputs": [],
   "source": []
  }
 ],
 "metadata": {
  "kernelspec": {
   "display_name": "Python 3",
   "language": "python",
   "name": "python3"
  },
  "language_info": {
   "codemirror_mode": {
    "name": "ipython",
    "version": 3
   },
   "file_extension": ".py",
   "mimetype": "text/x-python",
   "name": "python",
   "nbconvert_exporter": "python",
   "pygments_lexer": "ipython3",
   "version": "3.8.8"
  }
 },
 "nbformat": 4,
 "nbformat_minor": 5
}
