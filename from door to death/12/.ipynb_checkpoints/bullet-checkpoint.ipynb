{
 "cells": [
  {
   "cell_type": "code",
   "execution_count": 18,
   "id": "prerequisite-dairy",
   "metadata": {},
   "outputs": [],
   "source": [
    "import pygame\n",
    "from pygame.sprite import Sprite\n",
    "\n",
    "class Bullet(Sprite):\n",
    "    '''一个对飞船发射的子弹进行管理的类'''\n",
    "    \n",
    "    def __init__(self , ai_settings , screen , ship):\n",
    "        '''在飞船所处的位置创建一个子弹对象'''\n",
    "        super(Bullet, self).__init__()\n",
    "        self.screen = screen\n",
    "        \n",
    "        #在(0,0)处创建一个表示子弹的矩形，再设置正确的位置\n",
    "        self.rect = pygame.Rect(0 , 0 , ai_settings.bullet_width,ai_settings.bullet_height)\n",
    "        self.rect.centerx = ship.rect.centerx\n",
    "        self.rect.top = ship.rect.top\n",
    "        \n",
    "        #存储用小数表示的子弹位置\n",
    "        self.y = float(self.rect.y)\n",
    "        \n",
    "        self.color = ai_settings.bullet_color\n",
    "        self.speed_factor = ai_settings.bullet_speed_factor\n",
    "        \n",
    "    def update(self):\n",
    "        '''向上移动子弹'''\n",
    "        #更新表示子弹位置的小数值\n",
    "        self.y -= self.speed_factor\n",
    "        #更新表示子弹的rect的位置\n",
    "        self.rect.y = self.y\n",
    "        \n",
    "    def draw_bullet(self):\n",
    "        '''再屏幕上绘制子弹'''\n",
    "        pygame.draw.rect(self.screen , self.color , self.rect)"
   ]
  },
  {
   "cell_type": "code",
   "execution_count": 19,
   "id": "removable-accident",
   "metadata": {},
   "outputs": [
    {
     "name": "stderr",
     "output_type": "stream",
     "text": [
      "[NbConvertApp] Converting notebook bullet.ipynb to python\n",
      "[NbConvertApp] Writing 1192 bytes to bullet.py\n"
     ]
    }
   ],
   "source": [
    "try:    \n",
    "    !jupyter nbconvert --to python bullet.ipynb\n",
    "    # python即转化为.py，script即转化为.html\n",
    "    # file_name.ipynb即当前module的文件名\n",
    "except:\n",
    "    pass"
   ]
  },
  {
   "cell_type": "code",
   "execution_count": null,
   "id": "compatible-encyclopedia",
   "metadata": {},
   "outputs": [],
   "source": []
  }
 ],
 "metadata": {
  "kernelspec": {
   "display_name": "Python 3",
   "language": "python",
   "name": "python3"
  },
  "language_info": {
   "codemirror_mode": {
    "name": "ipython",
    "version": 3
   },
   "file_extension": ".py",
   "mimetype": "text/x-python",
   "name": "python",
   "nbconvert_exporter": "python",
   "pygments_lexer": "ipython3",
   "version": "3.8.8"
  }
 },
 "nbformat": 4,
 "nbformat_minor": 5
}
