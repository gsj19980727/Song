{
 "cells": [
  {
   "cell_type": "code",
   "execution_count": 1,
   "id": "civic-toner",
   "metadata": {},
   "outputs": [
    {
     "name": "stdout",
     "output_type": "stream",
     "text": [
      "pygame 2.0.1 (SDL 2.0.14, Python 3.8.8)\n",
      "Hello from the pygame community. https://www.pygame.org/contribute.html\n"
     ]
    }
   ],
   "source": [
    "import pygame\n",
    "\n",
    "class Ship():\n",
    "    \n",
    "    def __init__(self , ai_settings, screen):\n",
    "        '''初始化飞船并设置其初始位置'''\n",
    "        self.screen = screen\n",
    "        self.ai_settings = ai_settings\n",
    "        \n",
    "        #加载飞船图像并获取其外接矩形\n",
    "        self.image = pygame.image.load('ship.bmp')\n",
    "        self.rect = self.image.get_rect()\n",
    "        self.screen_rect = screen.get_rect()\n",
    "        \n",
    "        #将每艘新飞船放在屏幕底部中央\n",
    "        self.rect.centerx = self.screen_rect.centerx\n",
    "        self.rect.bottom = self.screen_rect.bottom\n",
    "        \n",
    "        #在飞船的属性center中存储小数值\n",
    "        self.center = float(self.rect.centerx)\n",
    "        \n",
    "        #移动标志\n",
    "        self.moving_right = False\n",
    "        self.moving_left = False\n",
    "        \n",
    "    def update(self):\n",
    "        '''根据移动标志调整飞船的位置'''\n",
    "        #更新飞船的center值而不是rect\n",
    "        if self.moving_right and self.rect.right < self.screen_rect.right:\n",
    "            self.center += self.ai_settings.ship_speed_factor\n",
    "        if self.moving_left and self.rect.left > 0:\n",
    "            self.center -= self.ai_settings.ship_speed_factor\n",
    "            \n",
    "        #根据self.center更新rect对象\n",
    "        self.rect.centerx = self.center\n",
    "        \n",
    "    def blitme(self):\n",
    "        '''在指定位置绘制飞船'''\n",
    "        self.screen.blit(self.image , self.rect)\n",
    "        \n",
    "    def center_ship(self):\n",
    "        '''让飞船在屏幕上居中'''\n",
    "        self.center = self.screen_rect.centerx"
   ]
  },
  {
   "cell_type": "code",
   "execution_count": 2,
   "id": "golden-blair",
   "metadata": {},
   "outputs": [
    {
     "name": "stderr",
     "output_type": "stream",
     "text": [
      "[NbConvertApp] Converting notebook ship.ipynb to python\n",
      "[NbConvertApp] Writing 1538 bytes to ship.py\n"
     ]
    }
   ],
   "source": [
    "try:    \n",
    "    !jupyter nbconvert --to python ship.ipynb\n",
    "    # python即转化为.py，script即转化为.html\n",
    "    # file_name.ipynb即当前module的文件名\n",
    "except:\n",
    "    pass"
   ]
  },
  {
   "cell_type": "code",
   "execution_count": null,
   "id": "designing-organic",
   "metadata": {},
   "outputs": [],
   "source": []
  }
 ],
 "metadata": {
  "kernelspec": {
   "display_name": "Python 3",
   "language": "python",
   "name": "python3"
  },
  "language_info": {
   "codemirror_mode": {
    "name": "ipython",
    "version": 3
   },
   "file_extension": ".py",
   "mimetype": "text/x-python",
   "name": "python",
   "nbconvert_exporter": "python",
   "pygments_lexer": "ipython3",
   "version": "3.8.8"
  }
 },
 "nbformat": 4,
 "nbformat_minor": 5
}
