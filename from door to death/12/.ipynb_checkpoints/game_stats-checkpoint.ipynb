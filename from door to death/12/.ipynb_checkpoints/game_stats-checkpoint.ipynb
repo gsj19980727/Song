{
 "cells": [
  {
   "cell_type": "code",
   "execution_count": 3,
   "id": "spiritual-basin",
   "metadata": {},
   "outputs": [],
   "source": [
    "class GameStats():\n",
    "    '''跟踪游戏的统计信息'''\n",
    "    \n",
    "    def __init__(self, ai_settings):\n",
    "        '''初始化统计信息'''\n",
    "        self.ai_settings = ai_settings\n",
    "        self.reset_stats()\n",
    "        #游戏刚启动时处于非活动状态\n",
    "        self.game_active = False\n",
    "        \n",
    "    def reset_stats(self):\n",
    "        '''初始化在游戏运行期间可能变化的统计信息'''\n",
    "        self.ships_left = self.ai_settings.ship_limit"
   ]
  },
  {
   "cell_type": "code",
   "execution_count": 4,
   "id": "ideal-residence",
   "metadata": {},
   "outputs": [
    {
     "name": "stderr",
     "output_type": "stream",
     "text": [
      "[NbConvertApp] Converting notebook game_stats.ipynb to python\n",
      "[NbConvertApp] Writing 599 bytes to game_stats.py\n"
     ]
    }
   ],
   "source": [
    "try:    \n",
    "    !jupyter nbconvert --to python game_stats.ipynb\n",
    "    # python即转化为.py，script即转化为.html\n",
    "    # file_name.ipynb即当前module的文件名\n",
    "except:\n",
    "    pass"
   ]
  },
  {
   "cell_type": "code",
   "execution_count": null,
   "id": "reported-rendering",
   "metadata": {},
   "outputs": [],
   "source": []
  }
 ],
 "metadata": {
  "kernelspec": {
   "display_name": "Python 3",
   "language": "python",
   "name": "python3"
  },
  "language_info": {
   "codemirror_mode": {
    "name": "ipython",
    "version": 3
   },
   "file_extension": ".py",
   "mimetype": "text/x-python",
   "name": "python",
   "nbconvert_exporter": "python",
   "pygments_lexer": "ipython3",
   "version": "3.8.8"
  }
 },
 "nbformat": 4,
 "nbformat_minor": 5
}
