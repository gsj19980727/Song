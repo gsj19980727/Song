{
 "cells": [
  {
   "cell_type": "code",
   "execution_count": 25,
   "id": "arctic-deposit",
   "metadata": {},
   "outputs": [],
   "source": [
    "import pygame\n",
    "from pygame.sprite import Sprite\n",
    "class Alien(Sprite):\n",
    "    '''表示单个外星人的类'''\n",
    "    \n",
    "    def __init__(self, ai_settings, screen):\n",
    "        '''初始化外星人并设置其起始位置'''\n",
    "        super(Alien,self).__init__()\n",
    "        self.screen = screen\n",
    "        self.ai_settings = ai_settings\n",
    "        \n",
    "        #加载外星人图像，并设置其rect属性\n",
    "        self.image = pygame.image.load('alien.bmp')\n",
    "        self.rect = self.image.get_rect()\n",
    "        \n",
    "        #每个外星人最初都在屏幕左上角附近\n",
    "        self.rect.x = self.rect.width\n",
    "        self.rect.y = self.rect.height\n",
    "        \n",
    "        #存储外星人的精确位置\n",
    "        self.x = float(self.rect.x)\n",
    "        \n",
    "        #外星人设置\n",
    "        self.alien_speed_factor = 1\n",
    "        \n",
    "    def blitme(self):\n",
    "        '''在指定位置绘制外星人'''\n",
    "        self.screen.blit(self.image, self.rect)\n",
    "        \n",
    "    def update(self):\n",
    "        '''向左或向右移动外星人'''\n",
    "        self.x += (self.ai_settings.alien_speed_factor * self.ai_settings.fleet_direction)\n",
    "        self.rect.x = self.x\n",
    "        \n",
    "    def check_edges(self):\n",
    "        '''如果外星人位于屏幕边缘，就返回True'''\n",
    "        screen_rect = self.screen.get_rect()\n",
    "        if self.rect.right >= screen_rect.right:\n",
    "            return True\n",
    "        elif self.rect.left <= 0:\n",
    "            return True\n",
    "        \n",
    "    def update(self):\n",
    "        '''向左或右移动外星人'''\n",
    "        self.x += (self.ai_settings.alien_speed_factor * self.ai_settings.fleet_direction)\n",
    "        self.rect.x = self.x"
   ]
  },
  {
   "cell_type": "code",
   "execution_count": 26,
   "id": "further-sally",
   "metadata": {},
   "outputs": [
    {
     "name": "stderr",
     "output_type": "stream",
     "text": [
      "[NbConvertApp] Converting notebook alien.ipynb to python\n",
      "[NbConvertApp] Writing 1588 bytes to alien.py\n"
     ]
    }
   ],
   "source": [
    "try:    \n",
    "    !jupyter nbconvert --to python alien.ipynb\n",
    "    # python即转化为.py，script即转化为.html\n",
    "    # file_name.ipynb即当前module的文件名\n",
    "except:\n",
    "    pass"
   ]
  },
  {
   "cell_type": "code",
   "execution_count": null,
   "id": "saved-parks",
   "metadata": {},
   "outputs": [],
   "source": []
  }
 ],
 "metadata": {
  "kernelspec": {
   "display_name": "Python 3",
   "language": "python",
   "name": "python3"
  },
  "language_info": {
   "codemirror_mode": {
    "name": "ipython",
    "version": 3
   },
   "file_extension": ".py",
   "mimetype": "text/x-python",
   "name": "python",
   "nbconvert_exporter": "python",
   "pygments_lexer": "ipython3",
   "version": "3.8.8"
  }
 },
 "nbformat": 4,
 "nbformat_minor": 5
}
