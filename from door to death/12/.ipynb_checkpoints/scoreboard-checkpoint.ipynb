{
 "cells": [
  {
   "cell_type": "code",
   "execution_count": 12,
   "id": "steady-cruise",
   "metadata": {},
   "outputs": [],
   "source": [
    "import pygame.font\n",
    "\n",
    "class Scoreboard():\n",
    "    '''显示得分信息的类'''\n",
    "    def __init__(self, ai_settings, screen, stats):\n",
    "        '''初始化显示得分涉及的属性'''\n",
    "        self.screen = screen\n",
    "        self.screen_rect = screen.get_rect()\n",
    "        self.ai_settings = ai_settings\n",
    "        self.stats = stats\n",
    "    \n",
    "        #显示得分信息时使用的字体\n",
    "        self.text_color = (30 , 30 , 30)\n",
    "        self.font = pygame.font.SysFont(None, 48)\n",
    "    \n",
    "        #准备初始得分图像\n",
    "        self.prep_score()\n",
    "    \n",
    "    def prep_score(self):\n",
    "        '''将得分转换为一副渲染的图像'''\n",
    "        rounded_score = int(round(self.stats.score, -1))\n",
    "        score_str = \"{:,}\".format(rounded_score)\n",
    "        self.score_image = self.font.render(score_str, True, self.text_color, self.ai_settings.bg_color)\n",
    "        \n",
    "        #将得分放在屏幕右上角\n",
    "        self.score_rect = self.score_image.get_rect()\n",
    "        self.score_rect.right = self.screen_rect.right - 20\n",
    "        self.score_rect.top = 20\n",
    "        \n",
    "    def show_score(self):\n",
    "        '''在屏幕上显示得分'''\n",
    "        self.screen.blit(self.score_image, self.score_rect)"
   ]
  },
  {
   "cell_type": "code",
   "execution_count": 13,
   "id": "acoustic-satin",
   "metadata": {},
   "outputs": [
    {
     "name": "stderr",
     "output_type": "stream",
     "text": [
      "[NbConvertApp] Converting notebook scoreboard.ipynb to python\n",
      "[NbConvertApp] Writing 1303 bytes to scoreboard.py\n"
     ]
    }
   ],
   "source": [
    "try:    \n",
    "    !jupyter nbconvert --to python scoreboard.ipynb\n",
    "    # python即转化为.py，script即转化为.html\n",
    "    # file_name.ipynb即当前module的文件名\n",
    "except:\n",
    "    pass"
   ]
  },
  {
   "cell_type": "code",
   "execution_count": null,
   "id": "working-mediterranean",
   "metadata": {},
   "outputs": [],
   "source": []
  }
 ],
 "metadata": {
  "kernelspec": {
   "display_name": "Python 3",
   "language": "python",
   "name": "python3"
  },
  "language_info": {
   "codemirror_mode": {
    "name": "ipython",
    "version": 3
   },
   "file_extension": ".py",
   "mimetype": "text/x-python",
   "name": "python",
   "nbconvert_exporter": "python",
   "pygments_lexer": "ipython3",
   "version": "3.8.8"
  }
 },
 "nbformat": 4,
 "nbformat_minor": 5
}
