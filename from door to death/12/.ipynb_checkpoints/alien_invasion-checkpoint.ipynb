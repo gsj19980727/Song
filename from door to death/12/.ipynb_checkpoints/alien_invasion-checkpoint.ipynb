{
 "cells": [
  {
   "cell_type": "code",
   "execution_count": null,
   "id": "measured-difference",
   "metadata": {},
   "outputs": [],
   "source": [
    "!pip install --user pygame-1.9.2a0-cp35-none-win32.whl -i https://pypi.tuna.tsinghua.edu.cn/simple"
   ]
  },
  {
   "cell_type": "code",
   "execution_count": 1,
   "id": "scenic-haven",
   "metadata": {},
   "outputs": [
    {
     "name": "stdout",
     "output_type": "stream",
     "text": [
      "pygame 2.0.1 (SDL 2.0.14, Python 3.8.8)\n",
      "Hello from the pygame community. https://www.pygame.org/contribute.html\n"
     ]
    },
    {
     "name": "stderr",
     "output_type": "stream",
     "text": [
      "[NbConvertApp] Converting notebook settings.ipynb to python\n",
      "[NbConvertApp] Writing 914 bytes to settings.py\n",
      "[NbConvertApp] Converting notebook ship.ipynb to python\n",
      "[NbConvertApp] Writing 1538 bytes to ship.py\n",
      "[NbConvertApp] Converting notebook alien.ipynb to python\n",
      "[NbConvertApp] Writing 1588 bytes to alien.py\n",
      "[NbConvertApp] Converting notebook bullet.ipynb to python\n",
      "[NbConvertApp] Writing 1192 bytes to bullet.py\n",
      "[NbConvertApp] Converting notebook game_functions.ipynb to python\n",
      "[NbConvertApp] Writing 5953 bytes to game_functions.py\n",
      "[NbConvertApp] Converting notebook game_stats.ipynb to python\n",
      "[NbConvertApp] Writing 599 bytes to game_stats.py\n",
      "[NbConvertApp] Converting notebook button.ipynb to python\n",
      "[NbConvertApp] Writing 1326 bytes to button.py\n"
     ]
    },
    {
     "ename": "NameError",
     "evalue": "name 'plau_button' is not defined",
     "output_type": "error",
     "traceback": [
      "\u001b[1;31m---------------------------------------------------------------------------\u001b[0m",
      "\u001b[1;31mNameError\u001b[0m                                 Traceback (most recent call last)",
      "\u001b[1;32m<ipython-input-1-e2475e3cdb65>\u001b[0m in \u001b[0;36m<module>\u001b[1;34m\u001b[0m\n\u001b[0;32m     49\u001b[0m         \u001b[0mgf\u001b[0m\u001b[1;33m.\u001b[0m\u001b[0mupdate_screen\u001b[0m\u001b[1;33m(\u001b[0m\u001b[0mai_settings\u001b[0m \u001b[1;33m,\u001b[0m \u001b[0mscreen\u001b[0m \u001b[1;33m,\u001b[0m \u001b[0mship\u001b[0m \u001b[1;33m,\u001b[0m \u001b[0maliens\u001b[0m \u001b[1;33m,\u001b[0m \u001b[0mbullets\u001b[0m \u001b[1;33m,\u001b[0m \u001b[0mplau_button\u001b[0m\u001b[1;33m)\u001b[0m\u001b[1;33m\u001b[0m\u001b[1;33m\u001b[0m\u001b[0m\n\u001b[0;32m     50\u001b[0m \u001b[1;33m\u001b[0m\u001b[0m\n\u001b[1;32m---> 51\u001b[1;33m \u001b[0mrun_game\u001b[0m\u001b[1;33m(\u001b[0m\u001b[1;33m)\u001b[0m\u001b[1;33m\u001b[0m\u001b[1;33m\u001b[0m\u001b[0m\n\u001b[0m",
      "\u001b[1;32m<ipython-input-1-e2475e3cdb65>\u001b[0m in \u001b[0;36mrun_game\u001b[1;34m()\u001b[0m\n\u001b[0;32m     47\u001b[0m             \u001b[0mgf\u001b[0m\u001b[1;33m.\u001b[0m\u001b[0mupdate_aliens\u001b[0m\u001b[1;33m(\u001b[0m\u001b[0mai_settings\u001b[0m\u001b[1;33m,\u001b[0m \u001b[0mstats\u001b[0m\u001b[1;33m,\u001b[0m \u001b[0mscreen\u001b[0m\u001b[1;33m,\u001b[0m \u001b[0mship\u001b[0m\u001b[1;33m,\u001b[0m \u001b[0maliens\u001b[0m\u001b[1;33m,\u001b[0m \u001b[0mbullets\u001b[0m\u001b[1;33m)\u001b[0m\u001b[1;33m\u001b[0m\u001b[1;33m\u001b[0m\u001b[0m\n\u001b[0;32m     48\u001b[0m \u001b[1;33m\u001b[0m\u001b[0m\n\u001b[1;32m---> 49\u001b[1;33m         \u001b[0mgf\u001b[0m\u001b[1;33m.\u001b[0m\u001b[0mupdate_screen\u001b[0m\u001b[1;33m(\u001b[0m\u001b[0mai_settings\u001b[0m \u001b[1;33m,\u001b[0m \u001b[0mscreen\u001b[0m \u001b[1;33m,\u001b[0m \u001b[0mship\u001b[0m \u001b[1;33m,\u001b[0m \u001b[0maliens\u001b[0m \u001b[1;33m,\u001b[0m \u001b[0mbullets\u001b[0m \u001b[1;33m,\u001b[0m \u001b[0mplau_button\u001b[0m\u001b[1;33m)\u001b[0m\u001b[1;33m\u001b[0m\u001b[1;33m\u001b[0m\u001b[0m\n\u001b[0m\u001b[0;32m     50\u001b[0m \u001b[1;33m\u001b[0m\u001b[0m\n\u001b[0;32m     51\u001b[0m \u001b[0mrun_game\u001b[0m\u001b[1;33m(\u001b[0m\u001b[1;33m)\u001b[0m\u001b[1;33m\u001b[0m\u001b[1;33m\u001b[0m\u001b[0m\n",
      "\u001b[1;31mNameError\u001b[0m: name 'plau_button' is not defined"
     ]
    }
   ],
   "source": [
    "import sys\n",
    "import pygame\n",
    "\n",
    "from settings import Settings\n",
    "from ship import Ship\n",
    "from alien import Alien\n",
    "import game_functions as gf\n",
    "from pygame.sprite import Group\n",
    "from game_stats import GameStats\n",
    "from button import Button\n",
    "def run_game():\n",
    "    #初始化游戏并创建一个屏幕对象\n",
    "    pygame.init()\n",
    "    ai_settings = Settings()\n",
    "    screen = pygame.display.set_mode((ai_settings.screen_width , ai_settings.screen_height))\n",
    "    pygame.display.set_caption(\"Alien Invasion\")\n",
    "    \n",
    "    #创建飞船\n",
    "    ship = Ship(ai_settings , screen)\n",
    "    \n",
    "    #创建一个用于存储子弹的编组\n",
    "    bullets = Group()\n",
    "    \n",
    "    #创建一个外星人\n",
    "    alien = Alien(ai_settings, screen)\n",
    "    \n",
    "    #创建一艘飞船/一个子弹编组和一个外星人编组\n",
    "    ship = Ship(ai_settings, screen)\n",
    "    bullets = Group()\n",
    "    aliens = Group()\n",
    "    \n",
    "    #创建外星人群\n",
    "    gf.create_fleet(ai_settings, screen, ship, aliens)\n",
    "    \n",
    "    #创建一个用于储存游戏统计信息的实例\n",
    "    stats = GameStats(ai_settings)\n",
    "    \n",
    "    #创建play按钮\n",
    "    play_button = Button(ai_settings, screen, \"Play\")\n",
    "    \n",
    "    #开始游戏的主循环\n",
    "    while True:\n",
    "        gf.check_events(ai_settings, screen, ship, bullets)\n",
    "        if stats.game_active:\n",
    "            ship.update()\n",
    "            gf.update_bullets(ai_settings, screen, ship, aliens, bullets)\n",
    "            gf.update_aliens(ai_settings, stats, screen, ship, aliens, bullets)\n",
    "            \n",
    "        gf.update_screen(ai_settings , screen , ship , aliens , bullets , play_button)\n",
    "        \n",
    "run_game()"
   ]
  },
  {
   "cell_type": "code",
   "execution_count": null,
   "id": "asian-phase",
   "metadata": {},
   "outputs": [],
   "source": []
  },
  {
   "cell_type": "code",
   "execution_count": null,
   "id": "underlying-flood",
   "metadata": {},
   "outputs": [],
   "source": []
  }
 ],
 "metadata": {
  "kernelspec": {
   "display_name": "Python 3",
   "language": "python",
   "name": "python3"
  },
  "language_info": {
   "codemirror_mode": {
    "name": "ipython",
    "version": 3
   },
   "file_extension": ".py",
   "mimetype": "text/x-python",
   "name": "python",
   "nbconvert_exporter": "python",
   "pygments_lexer": "ipython3",
   "version": "3.8.8"
  }
 },
 "nbformat": 4,
 "nbformat_minor": 5
}
