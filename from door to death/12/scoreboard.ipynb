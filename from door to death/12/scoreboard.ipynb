{
 "cells": [
  {
   "cell_type": "code",
   "execution_count": 26,
   "id": "signal-mistress",
   "metadata": {},
   "outputs": [
    {
     "name": "stderr",
     "output_type": "stream",
     "text": [
      "[NbConvertApp] Converting notebook ship.ipynb to python\n",
      "[NbConvertApp] Writing 1612 bytes to ship.py\n"
     ]
    }
   ],
   "source": [
    "import pygame.font\n",
    "from pygame.sprite import Group\n",
    "from ship import Ship\n",
    "\n",
    "class Scoreboard():\n",
    "    '''显示得分信息的类'''\n",
    "    def __init__(self, ai_settings, screen, stats):\n",
    "        '''初始化显示得分涉及的属性'''\n",
    "        self.screen = screen\n",
    "        self.screen_rect = screen.get_rect()\n",
    "        self.ai_settings = ai_settings\n",
    "        self.stats = stats\n",
    "    \n",
    "        #显示得分信息时使用的字体\n",
    "        self.text_color = (30 , 30 , 30)\n",
    "        self.font = pygame.font.SysFont(None, 48)\n",
    "    \n",
    "        #准备包含最高得分和当前得分的图像\n",
    "        self.prep_score()\n",
    "        self.prep_high_score()\n",
    "        self.prep_level()\n",
    "        self.prep_ships()\n",
    "    \n",
    "    def prep_score(self):\n",
    "        '''将得分转换为一副渲染的图像'''\n",
    "        rounded_score = int(round(self.stats.score, -1))\n",
    "        score_str = \"{:,}\".format(rounded_score)\n",
    "        self.score_image = self.font.render(score_str, True, self.text_color, self.ai_settings.bg_color)\n",
    "        \n",
    "        #将得分放在屏幕右上角\n",
    "        self.score_rect = self.score_image.get_rect()\n",
    "        self.score_rect.right = self.screen_rect.right - 20\n",
    "        self.score_rect.top = 20\n",
    "        \n",
    "    def show_score(self):\n",
    "        '''在屏幕上显示飞船和得分'''\n",
    "        self.screen.blit(self.score_image, self.score_rect)\n",
    "        self.screen.blit(self.high_score_image, self.high_score_rect)\n",
    "        self.screen.blit(self.level_image, self.level_rect)\n",
    "        #绘制飞船\n",
    "        self.ships.draw(self.screen)\n",
    "        \n",
    "    def prep_high_score(self):\n",
    "        '''将最高得分转换为渲染的图像'''\n",
    "        high_score = int(round(self.stats.high_score, -1))\n",
    "        high_score_str = \"{:}\".format(high_score)\n",
    "        self.high_score_image = self.font.render(high_score_str, True, self.text_color, self.ai_settings.bg_color)\n",
    "        \n",
    "        #将最高得分放在屏幕顶部中央\n",
    "        self.high_score_rect = self.high_score_image.get_rect()\n",
    "        self.high_score_rect.centerx = self.screen_rect.centerx\n",
    "        self.high_score_rect.top = self.score_rect.top\n",
    "        \n",
    "    def prep_level(self):\n",
    "        '''将等级转换为渲染的图像'''\n",
    "        self.level_image = self.font.render(str(self.stats.level), True, self.text_color, self.ai_settings.bg_color)\n",
    "        \n",
    "        #将等级放在得分下方\n",
    "        self.level_rect = self.level_image.get_rect()\n",
    "        self.level_rect.right = self.score_rect.right\n",
    "        self.level_rect.top = self.score_rect.bottom + 10\n",
    "        \n",
    "    def prep_ships(self):\n",
    "        '''显示还余下多少艘飞船'''\n",
    "        self.ships = Group()\n",
    "        for ship_number in range(self.stats.ships_left):\n",
    "            ship = Ship(self.ai_settings, self.screen)\n",
    "            ship.rect.x = 10 + ship_number * ship.rect.width\n",
    "            ship.rect.y = 10\n",
    "            self.ships.add(ship)"
   ]
  },
  {
   "cell_type": "code",
   "execution_count": 27,
   "id": "thermal-institute",
   "metadata": {},
   "outputs": [
    {
     "name": "stderr",
     "output_type": "stream",
     "text": [
      "[NbConvertApp] Converting notebook scoreboard.ipynb to python\n",
      "[NbConvertApp] Writing 2793 bytes to scoreboard.py\n"
     ]
    }
   ],
   "source": [
    "try:    \n",
    "    !jupyter nbconvert --to python scoreboard.ipynb\n",
    "    # python即转化为.py，script即转化为.html\n",
    "    # file_name.ipynb即当前module的文件名\n",
    "except:\n",
    "    pass"
   ]
  },
  {
   "cell_type": "code",
   "execution_count": null,
   "id": "genuine-contract",
   "metadata": {},
   "outputs": [],
   "source": []
  }
 ],
 "metadata": {
  "kernelspec": {
   "display_name": "Python 3",
   "language": "python",
   "name": "python3"
  },
  "language_info": {
   "codemirror_mode": {
    "name": "ipython",
    "version": 3
   },
   "file_extension": ".py",
   "mimetype": "text/x-python",
   "name": "python",
   "nbconvert_exporter": "python",
   "pygments_lexer": "ipython3",
   "version": "3.8.8"
  }
 },
 "nbformat": 4,
 "nbformat_minor": 5
}
