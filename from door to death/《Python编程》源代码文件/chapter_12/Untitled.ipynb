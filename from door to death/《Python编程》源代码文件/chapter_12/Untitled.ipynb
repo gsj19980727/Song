{
 "cells": [
  {
   "cell_type": "code",
   "execution_count": 1,
   "id": "regular-payroll",
   "metadata": {},
   "outputs": [
    {
     "name": "stdout",
     "output_type": "stream",
     "text": [
      "pygame 2.0.1 (SDL 2.0.14, Python 3.8.8)\n",
      "Hello from the pygame community. https://www.pygame.org/contribute.html\n"
     ]
    },
    {
     "ename": "SystemExit",
     "evalue": "",
     "output_type": "error",
     "traceback": [
      "An exception has occurred, use %tb to see the full traceback.\n",
      "\u001b[1;31mSystemExit\u001b[0m\n"
     ]
    },
    {
     "name": "stderr",
     "output_type": "stream",
     "text": [
      "C:\\Users\\77429\\anaconda3\\envs\\tf1.0\\lib\\site-packages\\IPython\\core\\interactiveshell.py:3445: UserWarning: To exit: use 'exit', 'quit', or Ctrl-D.\n",
      "  warn(\"To exit: use 'exit', 'quit', or Ctrl-D.\", stacklevel=1)\n"
     ]
    }
   ],
   "source": [
    "import pygame\n",
    "from pygame.sprite import Group\n",
    "\n",
    "from settings import Settings\n",
    "from ship import Ship\n",
    "import game_functions as gf\n",
    "\n",
    "def run_game():\n",
    "    # Initialize pygame, settings, and screen object.\n",
    "    pygame.init()\n",
    "    ai_settings = Settings()\n",
    "    screen = pygame.display.set_mode(\n",
    "        (ai_settings.screen_width, ai_settings.screen_height))\n",
    "    pygame.display.set_caption(\"Alien Invasion\")\n",
    "    \n",
    "    # Set the background color.\n",
    "    bg_color = (230, 230, 230)\n",
    "    \n",
    "    # Make a ship.\n",
    "    ship = Ship(ai_settings, screen)\n",
    "    # Make a group to store bullets in.\n",
    "    bullets = Group()\n",
    "\n",
    "    # Start the main loop for the game.\n",
    "    while True:\n",
    "        gf.check_events(ai_settings, screen, ship, bullets)\n",
    "        ship.update()\n",
    "        gf.update_bullets(bullets)\n",
    "        gf.update_screen(ai_settings, screen, ship, bullets)\n",
    "\n",
    "run_game()\n"
   ]
  },
  {
   "cell_type": "code",
   "execution_count": null,
   "id": "attended-stevens",
   "metadata": {},
   "outputs": [],
   "source": []
  }
 ],
 "metadata": {
  "kernelspec": {
   "display_name": "Python 3",
   "language": "python",
   "name": "python3"
  },
  "language_info": {
   "codemirror_mode": {
    "name": "ipython",
    "version": 3
   },
   "file_extension": ".py",
   "mimetype": "text/x-python",
   "name": "python",
   "nbconvert_exporter": "python",
   "pygments_lexer": "ipython3",
   "version": "3.8.8"
  }
 },
 "nbformat": 4,
 "nbformat_minor": 5
}
