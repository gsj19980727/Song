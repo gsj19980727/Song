{
 "cells": [
  {
   "cell_type": "code",
   "execution_count": 1,
   "id": "filled-shakespeare",
   "metadata": {},
   "outputs": [
    {
     "name": "stderr",
     "output_type": "stream",
     "text": [
      "[NbConvertApp] Converting notebook die.ipynb to python\n",
      "[NbConvertApp] Writing 508 bytes to die.py\n"
     ]
    }
   ],
   "source": [
    "import pygal\n",
    "from die import Die\n",
    "\n",
    "#创建两个D6骰子\n",
    "die_1 = Die()\n",
    "die_2 = Die()\n",
    "\n",
    "#掷几次骰子，并将结果存储在一个列表中\n",
    "results = []\n",
    "for roll_num in range(1000):\n",
    "    result = die_1.roll() + die_2.roll()\n",
    "    results.append(result)\n",
    "    \n",
    "#分析结果\n",
    "frequencies = []\n",
    "max_result = die_1.num_sides + die_2.num_sides\n",
    "for value in range(2, max_result + 1):\n",
    "    frequency = results.count(value)\n",
    "    frequencies.append(frequency)\n",
    "    \n",
    "#对结果进行可视化\n",
    "hist = pygal.Bar()\n",
    "\n",
    "hist.title = \"Results of rolling two D6 1000 times.\"\n",
    "hist.x_labels = ['2', '3', '4', '5', '6', '7', '8', '9', '10', '11', '12']\n",
    "hist.x_title = \"Result\"\n",
    "hist.y_title = \"Frequency of Result\"\n",
    "\n",
    "hist.add('D6 + D6', frequencies)\n",
    "hist.render_to_file('dice_visual.svg')"
   ]
  },
  {
   "cell_type": "code",
   "execution_count": null,
   "id": "effective-november",
   "metadata": {},
   "outputs": [],
   "source": []
  }
 ],
 "metadata": {
  "kernelspec": {
   "display_name": "Python 3",
   "language": "python",
   "name": "python3"
  },
  "language_info": {
   "codemirror_mode": {
    "name": "ipython",
    "version": 3
   },
   "file_extension": ".py",
   "mimetype": "text/x-python",
   "name": "python",
   "nbconvert_exporter": "python",
   "pygments_lexer": "ipython3",
   "version": "3.8.8"
  }
 },
 "nbformat": 4,
 "nbformat_minor": 5
}
