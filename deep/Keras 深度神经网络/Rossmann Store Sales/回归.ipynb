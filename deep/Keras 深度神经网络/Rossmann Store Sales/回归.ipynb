{
 "cells": [
  {
   "cell_type": "code",
   "execution_count": 1,
   "metadata": {},
   "outputs": [
    {
     "name": "stderr",
     "output_type": "stream",
     "text": [
      "C:\\Users\\77429\\anaconda3\\lib\\site-packages\\IPython\\core\\interactiveshell.py:3146: DtypeWarning: Columns (7) have mixed types.Specify dtype option on import or set low_memory=False.\n",
      "  has_raised = await self.run_ast_nodes(code_ast.body, cell_name,\n"
     ]
    }
   ],
   "source": [
    "import pandas as pd\n",
    "df = pd.read_csv(\"train.csv\")"
   ]
  },
  {
   "cell_type": "code",
   "execution_count": 2,
   "metadata": {},
   "outputs": [
    {
     "name": "stdout",
     "output_type": "stream",
     "text": [
      "Shape of the Dataset: (1017209, 9)\n"
     ]
    },
    {
     "data": {
      "text/html": [
       "<div>\n",
       "<style scoped>\n",
       "    .dataframe tbody tr th:only-of-type {\n",
       "        vertical-align: middle;\n",
       "    }\n",
       "\n",
       "    .dataframe tbody tr th {\n",
       "        vertical-align: top;\n",
       "    }\n",
       "\n",
       "    .dataframe thead th {\n",
       "        text-align: right;\n",
       "    }\n",
       "</style>\n",
       "<table border=\"1\" class=\"dataframe\">\n",
       "  <thead>\n",
       "    <tr style=\"text-align: right;\">\n",
       "      <th></th>\n",
       "      <th>Store</th>\n",
       "      <th>DayOfWeek</th>\n",
       "      <th>Date</th>\n",
       "      <th>Sales</th>\n",
       "      <th>Customers</th>\n",
       "      <th>Open</th>\n",
       "      <th>Promo</th>\n",
       "      <th>StateHoliday</th>\n",
       "      <th>SchoolHoliday</th>\n",
       "    </tr>\n",
       "  </thead>\n",
       "  <tbody>\n",
       "    <tr>\n",
       "      <th>0</th>\n",
       "      <td>1</td>\n",
       "      <td>5</td>\n",
       "      <td>2015-07-31</td>\n",
       "      <td>5263</td>\n",
       "      <td>555</td>\n",
       "      <td>1</td>\n",
       "      <td>1</td>\n",
       "      <td>0</td>\n",
       "      <td>1</td>\n",
       "    </tr>\n",
       "    <tr>\n",
       "      <th>1</th>\n",
       "      <td>2</td>\n",
       "      <td>5</td>\n",
       "      <td>2015-07-31</td>\n",
       "      <td>6064</td>\n",
       "      <td>625</td>\n",
       "      <td>1</td>\n",
       "      <td>1</td>\n",
       "      <td>0</td>\n",
       "      <td>1</td>\n",
       "    </tr>\n",
       "    <tr>\n",
       "      <th>2</th>\n",
       "      <td>3</td>\n",
       "      <td>5</td>\n",
       "      <td>2015-07-31</td>\n",
       "      <td>8314</td>\n",
       "      <td>821</td>\n",
       "      <td>1</td>\n",
       "      <td>1</td>\n",
       "      <td>0</td>\n",
       "      <td>1</td>\n",
       "    </tr>\n",
       "    <tr>\n",
       "      <th>3</th>\n",
       "      <td>4</td>\n",
       "      <td>5</td>\n",
       "      <td>2015-07-31</td>\n",
       "      <td>13995</td>\n",
       "      <td>1498</td>\n",
       "      <td>1</td>\n",
       "      <td>1</td>\n",
       "      <td>0</td>\n",
       "      <td>1</td>\n",
       "    </tr>\n",
       "    <tr>\n",
       "      <th>4</th>\n",
       "      <td>5</td>\n",
       "      <td>5</td>\n",
       "      <td>2015-07-31</td>\n",
       "      <td>4822</td>\n",
       "      <td>559</td>\n",
       "      <td>1</td>\n",
       "      <td>1</td>\n",
       "      <td>0</td>\n",
       "      <td>1</td>\n",
       "    </tr>\n",
       "  </tbody>\n",
       "</table>\n",
       "</div>"
      ],
      "text/plain": [
       "   Store  DayOfWeek        Date  Sales  Customers  Open  Promo StateHoliday  \\\n",
       "0      1          5  2015-07-31   5263        555     1      1            0   \n",
       "1      2          5  2015-07-31   6064        625     1      1            0   \n",
       "2      3          5  2015-07-31   8314        821     1      1            0   \n",
       "3      4          5  2015-07-31  13995       1498     1      1            0   \n",
       "4      5          5  2015-07-31   4822        559     1      1            0   \n",
       "\n",
       "   SchoolHoliday  \n",
       "0              1  \n",
       "1              1  \n",
       "2              1  \n",
       "3              1  \n",
       "4              1  "
      ]
     },
     "execution_count": 2,
     "metadata": {},
     "output_type": "execute_result"
    }
   ],
   "source": [
    "print(\"Shape of the Dataset:\",df.shape)\n",
    "#the head method displays the first 5 rows of the data\n",
    "df.head(5)"
   ]
  },
  {
   "cell_type": "code",
   "execution_count": 3,
   "metadata": {},
   "outputs": [
    {
     "name": "stdout",
     "output_type": "stream",
     "text": [
      "Shape of the Dataset: (1115, 10)\n"
     ]
    },
    {
     "data": {
      "text/html": [
       "<div>\n",
       "<style scoped>\n",
       "    .dataframe tbody tr th:only-of-type {\n",
       "        vertical-align: middle;\n",
       "    }\n",
       "\n",
       "    .dataframe tbody tr th {\n",
       "        vertical-align: top;\n",
       "    }\n",
       "\n",
       "    .dataframe thead th {\n",
       "        text-align: right;\n",
       "    }\n",
       "</style>\n",
       "<table border=\"1\" class=\"dataframe\">\n",
       "  <thead>\n",
       "    <tr style=\"text-align: right;\">\n",
       "      <th></th>\n",
       "      <th>Store</th>\n",
       "      <th>StoreType</th>\n",
       "      <th>Assortment</th>\n",
       "      <th>CompetitionDistance</th>\n",
       "      <th>CompetitionOpenSinceMonth</th>\n",
       "      <th>CompetitionOpenSinceYear</th>\n",
       "      <th>Promo2</th>\n",
       "      <th>Promo2SinceWeek</th>\n",
       "      <th>Promo2SinceYear</th>\n",
       "      <th>PromoInterval</th>\n",
       "    </tr>\n",
       "  </thead>\n",
       "  <tbody>\n",
       "    <tr>\n",
       "      <th>0</th>\n",
       "      <td>1</td>\n",
       "      <td>c</td>\n",
       "      <td>a</td>\n",
       "      <td>1270.0</td>\n",
       "      <td>9.0</td>\n",
       "      <td>2008.0</td>\n",
       "      <td>0</td>\n",
       "      <td>NaN</td>\n",
       "      <td>NaN</td>\n",
       "      <td>NaN</td>\n",
       "    </tr>\n",
       "    <tr>\n",
       "      <th>1</th>\n",
       "      <td>2</td>\n",
       "      <td>a</td>\n",
       "      <td>a</td>\n",
       "      <td>570.0</td>\n",
       "      <td>11.0</td>\n",
       "      <td>2007.0</td>\n",
       "      <td>1</td>\n",
       "      <td>13.0</td>\n",
       "      <td>2010.0</td>\n",
       "      <td>Jan,Apr,Jul,Oct</td>\n",
       "    </tr>\n",
       "    <tr>\n",
       "      <th>2</th>\n",
       "      <td>3</td>\n",
       "      <td>a</td>\n",
       "      <td>a</td>\n",
       "      <td>14130.0</td>\n",
       "      <td>12.0</td>\n",
       "      <td>2006.0</td>\n",
       "      <td>1</td>\n",
       "      <td>14.0</td>\n",
       "      <td>2011.0</td>\n",
       "      <td>Jan,Apr,Jul,Oct</td>\n",
       "    </tr>\n",
       "    <tr>\n",
       "      <th>3</th>\n",
       "      <td>4</td>\n",
       "      <td>c</td>\n",
       "      <td>c</td>\n",
       "      <td>620.0</td>\n",
       "      <td>9.0</td>\n",
       "      <td>2009.0</td>\n",
       "      <td>0</td>\n",
       "      <td>NaN</td>\n",
       "      <td>NaN</td>\n",
       "      <td>NaN</td>\n",
       "    </tr>\n",
       "    <tr>\n",
       "      <th>4</th>\n",
       "      <td>5</td>\n",
       "      <td>a</td>\n",
       "      <td>a</td>\n",
       "      <td>29910.0</td>\n",
       "      <td>4.0</td>\n",
       "      <td>2015.0</td>\n",
       "      <td>0</td>\n",
       "      <td>NaN</td>\n",
       "      <td>NaN</td>\n",
       "      <td>NaN</td>\n",
       "    </tr>\n",
       "  </tbody>\n",
       "</table>\n",
       "</div>"
      ],
      "text/plain": [
       "   Store StoreType Assortment  CompetitionDistance  CompetitionOpenSinceMonth  \\\n",
       "0      1         c          a               1270.0                        9.0   \n",
       "1      2         a          a                570.0                       11.0   \n",
       "2      3         a          a              14130.0                       12.0   \n",
       "3      4         c          c                620.0                        9.0   \n",
       "4      5         a          a              29910.0                        4.0   \n",
       "\n",
       "   CompetitionOpenSinceYear  Promo2  Promo2SinceWeek  Promo2SinceYear  \\\n",
       "0                    2008.0       0              NaN              NaN   \n",
       "1                    2007.0       1             13.0           2010.0   \n",
       "2                    2006.0       1             14.0           2011.0   \n",
       "3                    2009.0       0              NaN              NaN   \n",
       "4                    2015.0       0              NaN              NaN   \n",
       "\n",
       "     PromoInterval  \n",
       "0              NaN  \n",
       "1  Jan,Apr,Jul,Oct  \n",
       "2  Jan,Apr,Jul,Oct  \n",
       "3              NaN  \n",
       "4              NaN  "
      ]
     },
     "execution_count": 3,
     "metadata": {},
     "output_type": "execute_result"
    }
   ],
   "source": [
    "store = pd.read_csv(\"store.csv\")\n",
    "print(\"Shape of the Dataset:\",store.shape)\n",
    "#Display the first 5 rows of data using the head method of pandas dataframe\n",
    "store.head()"
   ]
  },
  {
   "cell_type": "code",
   "execution_count": 4,
   "metadata": {},
   "outputs": [
    {
     "name": "stdout",
     "output_type": "stream",
     "text": [
      "(1017209, 18)\n"
     ]
    }
   ],
   "source": [
    "df_new = df.merge(store,on=[\"Store\"], how=\"inner\")\n",
    "print(df_new.shape)"
   ]
  },
  {
   "cell_type": "code",
   "execution_count": 5,
   "metadata": {},
   "outputs": [
    {
     "data": {
      "text/html": [
       "<div>\n",
       "<style scoped>\n",
       "    .dataframe tbody tr th:only-of-type {\n",
       "        vertical-align: middle;\n",
       "    }\n",
       "\n",
       "    .dataframe tbody tr th {\n",
       "        vertical-align: top;\n",
       "    }\n",
       "\n",
       "    .dataframe thead th {\n",
       "        text-align: right;\n",
       "    }\n",
       "</style>\n",
       "<table border=\"1\" class=\"dataframe\">\n",
       "  <thead>\n",
       "    <tr style=\"text-align: right;\">\n",
       "      <th></th>\n",
       "      <th>Store</th>\n",
       "      <th>DayOfWeek</th>\n",
       "      <th>Date</th>\n",
       "      <th>Sales</th>\n",
       "      <th>Customers</th>\n",
       "      <th>Open</th>\n",
       "      <th>Promo</th>\n",
       "      <th>StateHoliday</th>\n",
       "      <th>SchoolHoliday</th>\n",
       "      <th>StoreType</th>\n",
       "      <th>Assortment</th>\n",
       "      <th>CompetitionDistance</th>\n",
       "      <th>CompetitionOpenSinceMonth</th>\n",
       "      <th>CompetitionOpenSinceYear</th>\n",
       "      <th>Promo2</th>\n",
       "      <th>Promo2SinceWeek</th>\n",
       "      <th>Promo2SinceYear</th>\n",
       "      <th>PromoInterval</th>\n",
       "    </tr>\n",
       "  </thead>\n",
       "  <tbody>\n",
       "    <tr>\n",
       "      <th>0</th>\n",
       "      <td>1</td>\n",
       "      <td>5</td>\n",
       "      <td>2015-07-31</td>\n",
       "      <td>5263</td>\n",
       "      <td>555</td>\n",
       "      <td>1</td>\n",
       "      <td>1</td>\n",
       "      <td>0</td>\n",
       "      <td>1</td>\n",
       "      <td>c</td>\n",
       "      <td>a</td>\n",
       "      <td>1270.0</td>\n",
       "      <td>9.0</td>\n",
       "      <td>2008.0</td>\n",
       "      <td>0</td>\n",
       "      <td>NaN</td>\n",
       "      <td>NaN</td>\n",
       "      <td>NaN</td>\n",
       "    </tr>\n",
       "    <tr>\n",
       "      <th>1</th>\n",
       "      <td>1</td>\n",
       "      <td>4</td>\n",
       "      <td>2015-07-30</td>\n",
       "      <td>5020</td>\n",
       "      <td>546</td>\n",
       "      <td>1</td>\n",
       "      <td>1</td>\n",
       "      <td>0</td>\n",
       "      <td>1</td>\n",
       "      <td>c</td>\n",
       "      <td>a</td>\n",
       "      <td>1270.0</td>\n",
       "      <td>9.0</td>\n",
       "      <td>2008.0</td>\n",
       "      <td>0</td>\n",
       "      <td>NaN</td>\n",
       "      <td>NaN</td>\n",
       "      <td>NaN</td>\n",
       "    </tr>\n",
       "    <tr>\n",
       "      <th>2</th>\n",
       "      <td>1</td>\n",
       "      <td>3</td>\n",
       "      <td>2015-07-29</td>\n",
       "      <td>4782</td>\n",
       "      <td>523</td>\n",
       "      <td>1</td>\n",
       "      <td>1</td>\n",
       "      <td>0</td>\n",
       "      <td>1</td>\n",
       "      <td>c</td>\n",
       "      <td>a</td>\n",
       "      <td>1270.0</td>\n",
       "      <td>9.0</td>\n",
       "      <td>2008.0</td>\n",
       "      <td>0</td>\n",
       "      <td>NaN</td>\n",
       "      <td>NaN</td>\n",
       "      <td>NaN</td>\n",
       "    </tr>\n",
       "    <tr>\n",
       "      <th>3</th>\n",
       "      <td>1</td>\n",
       "      <td>2</td>\n",
       "      <td>2015-07-28</td>\n",
       "      <td>5011</td>\n",
       "      <td>560</td>\n",
       "      <td>1</td>\n",
       "      <td>1</td>\n",
       "      <td>0</td>\n",
       "      <td>1</td>\n",
       "      <td>c</td>\n",
       "      <td>a</td>\n",
       "      <td>1270.0</td>\n",
       "      <td>9.0</td>\n",
       "      <td>2008.0</td>\n",
       "      <td>0</td>\n",
       "      <td>NaN</td>\n",
       "      <td>NaN</td>\n",
       "      <td>NaN</td>\n",
       "    </tr>\n",
       "    <tr>\n",
       "      <th>4</th>\n",
       "      <td>1</td>\n",
       "      <td>1</td>\n",
       "      <td>2015-07-27</td>\n",
       "      <td>6102</td>\n",
       "      <td>612</td>\n",
       "      <td>1</td>\n",
       "      <td>1</td>\n",
       "      <td>0</td>\n",
       "      <td>1</td>\n",
       "      <td>c</td>\n",
       "      <td>a</td>\n",
       "      <td>1270.0</td>\n",
       "      <td>9.0</td>\n",
       "      <td>2008.0</td>\n",
       "      <td>0</td>\n",
       "      <td>NaN</td>\n",
       "      <td>NaN</td>\n",
       "      <td>NaN</td>\n",
       "    </tr>\n",
       "  </tbody>\n",
       "</table>\n",
       "</div>"
      ],
      "text/plain": [
       "   Store  DayOfWeek        Date  Sales  Customers  Open  Promo StateHoliday  \\\n",
       "0      1          5  2015-07-31   5263        555     1      1            0   \n",
       "1      1          4  2015-07-30   5020        546     1      1            0   \n",
       "2      1          3  2015-07-29   4782        523     1      1            0   \n",
       "3      1          2  2015-07-28   5011        560     1      1            0   \n",
       "4      1          1  2015-07-27   6102        612     1      1            0   \n",
       "\n",
       "   SchoolHoliday StoreType Assortment  CompetitionDistance  \\\n",
       "0              1         c          a               1270.0   \n",
       "1              1         c          a               1270.0   \n",
       "2              1         c          a               1270.0   \n",
       "3              1         c          a               1270.0   \n",
       "4              1         c          a               1270.0   \n",
       "\n",
       "   CompetitionOpenSinceMonth  CompetitionOpenSinceYear  Promo2  \\\n",
       "0                        9.0                    2008.0       0   \n",
       "1                        9.0                    2008.0       0   \n",
       "2                        9.0                    2008.0       0   \n",
       "3                        9.0                    2008.0       0   \n",
       "4                        9.0                    2008.0       0   \n",
       "\n",
       "   Promo2SinceWeek  Promo2SinceYear PromoInterval  \n",
       "0              NaN              NaN           NaN  \n",
       "1              NaN              NaN           NaN  \n",
       "2              NaN              NaN           NaN  \n",
       "3              NaN              NaN           NaN  \n",
       "4              NaN              NaN           NaN  "
      ]
     },
     "execution_count": 5,
     "metadata": {},
     "output_type": "execute_result"
    }
   ],
   "source": [
    "df_new.head()"
   ]
  },
  {
   "cell_type": "code",
   "execution_count": 6,
   "metadata": {},
   "outputs": [
    {
     "name": "stdout",
     "output_type": "stream",
     "text": [
      "Distinct number of Stores : 1115\n",
      "Distinct number of Days : 942\n",
      "Average daily sales of all stores : 5773.82\n"
     ]
    }
   ],
   "source": [
    "print(\"Distinct number of Stores :\", len(df_new[\"Store\"].unique()))\n",
    "print(\"Distinct number of Days :\", len(df_new[\"Date\"].unique()))\n",
    "print(\"Average daily sales of all stores :\",round(df_new[\"Sales\"].mean(),2))"
   ]
  },
  {
   "cell_type": "code",
   "execution_count": 7,
   "metadata": {},
   "outputs": [
    {
     "data": {
      "text/plain": [
       "Store                          int64\n",
       "DayOfWeek                      int64\n",
       "Date                          object\n",
       "Sales                          int64\n",
       "Customers                      int64\n",
       "Open                           int64\n",
       "Promo                          int64\n",
       "StateHoliday                  object\n",
       "SchoolHoliday                  int64\n",
       "StoreType                     object\n",
       "Assortment                    object\n",
       "CompetitionDistance          float64\n",
       "CompetitionOpenSinceMonth    float64\n",
       "CompetitionOpenSinceYear     float64\n",
       "Promo2                         int64\n",
       "Promo2SinceWeek              float64\n",
       "Promo2SinceYear              float64\n",
       "PromoInterval                 object\n",
       "dtype: object"
      ]
     },
     "execution_count": 7,
     "metadata": {},
     "output_type": "execute_result"
    }
   ],
   "source": [
    "df_new.dtypes"
   ]
  },
  {
   "cell_type": "code",
   "execution_count": 8,
   "metadata": {},
   "outputs": [
    {
     "data": {
      "text/plain": [
       "5    145845\n",
       "4    145845\n",
       "3    145665\n",
       "2    145664\n",
       "7    144730\n",
       "6    144730\n",
       "1    144730\n",
       "Name: DayOfWeek, dtype: int64"
      ]
     },
     "execution_count": 8,
     "metadata": {},
     "output_type": "execute_result"
    }
   ],
   "source": [
    "df_new[\"DayOfWeek\"].value_counts()"
   ]
  },
  {
   "cell_type": "code",
   "execution_count": 9,
   "metadata": {},
   "outputs": [
    {
     "name": "stderr",
     "output_type": "stream",
     "text": [
      "<ipython-input-9-160e16e0e9c3>:8: FutureWarning: Series.dt.weekofyear and Series.dt.week have been deprecated.  Please use Series.dt.isocalendar().week instead.\n",
      "  df_new['Week']=df_new['Date'].dt.week\n"
     ]
    },
    {
     "name": "stdout",
     "output_type": "stream",
     "text": [
      "        Date  Year  Month  Day  Week  Quarter  Season\n",
      "0 2015-07-31  2015      7   31    31        3  Summer\n",
      "1 2015-07-30  2015      7   30    31        3  Summer\n",
      "2 2015-07-29  2015      7   29    31        3  Summer\n",
      "3 2015-07-28  2015      7   28    31        3  Summer\n",
      "4 2015-07-27  2015      7   27    31        3  Summer\n"
     ]
    }
   ],
   "source": [
    "#We can extract all date properties from a datetime datatype\n",
    "import numpy as np\n",
    "df_new['Date']=pd.to_datetime(df_new['Date'], infer_datetime_format=True)\n",
    "df_new[\"Month\"]=df_new[\"Date\"].dt.month\n",
    "df_new['Quarter']=df_new['Date'].dt.quarter\n",
    "df_new['Year']=df_new['Date'].dt.year\n",
    "df_new['Day']=df_new['Date'].dt.day\n",
    "df_new['Week']=df_new['Date'].dt.week\n",
    "\n",
    "df_new['Season']=np.where(df_new['Month'].isin([3,4,5]),\"Spring\",\n",
    "                         np.where(df_new['Month'].isin([6,7,8]),\"Summer\",\n",
    "                                 np.where(df_new['Month'].isin([9,10,11]),\"Fall\",\n",
    "                                        np.where(df_new[\"Month\"].isin([12,1,2]),\"Winter\",\"None\"))))\n",
    "#Using the head command to view (only) the data and the newly engineered features\n",
    "print(df_new[[\"Date\",\"Year\",\"Month\",\"Day\",\"Week\",\"Quarter\",\"Season\"]].head())"
   ]
  },
  {
   "cell_type": "code",
   "execution_count": 10,
   "metadata": {},
   "outputs": [
    {
     "data": {
      "text/plain": [
       "<function matplotlib.pyplot.show(close=None, block=None)>"
      ]
     },
     "execution_count": 10,
     "metadata": {},
     "output_type": "execute_result"
    },
    {
     "data": {
      "image/png": "[encoded data removed]",
      "text/plain": [
       "<Figure size 1080x576 with 1 Axes>"
      ]
     },
     "metadata": {
      "needs_background": "light"
     },
     "output_type": "display_data"
    }
   ],
   "source": [
    "#Import matplotlib,python most popular data visualizing library\n",
    "import matplotlib.pyplot as plt\n",
    "%matplotlib inline\n",
    "#Create a histogram to study the Daily Sales for the stores\n",
    "plt.figure(figsize=(15,8))\n",
    "plt.hist(df_new[\"Sales\"])\n",
    "plt.title(\"Histogram for Store Sales\")\n",
    "plt.xlabel(\"Frequency\")\n",
    "plt.show"
   ]
  },
  {
   "cell_type": "code",
   "execution_count": 11,
   "metadata": {},
   "outputs": [
    {
     "data": {
      "text/plain": [
       "array([[<AxesSubplot:title={'center':'Store'}>,\n",
       "        <AxesSubplot:title={'center':'DayOfWeek'}>,\n",
       "        <AxesSubplot:title={'center':'Sales'}>,\n",
       "        <AxesSubplot:title={'center':'Customers'}>],\n",
       "       [<AxesSubplot:title={'center':'Open'}>,\n",
       "        <AxesSubplot:title={'center':'Promo'}>,\n",
       "        <AxesSubplot:title={'center':'SchoolHoliday'}>,\n",
       "        <AxesSubplot:title={'center':'CompetitionDistance'}>],\n",
       "       [<AxesSubplot:title={'center':'CompetitionOpenSinceMonth'}>,\n",
       "        <AxesSubplot:title={'center':'CompetitionOpenSinceYear'}>,\n",
       "        <AxesSubplot:title={'center':'Promo2'}>,\n",
       "        <AxesSubplot:title={'center':'Promo2SinceWeek'}>],\n",
       "       [<AxesSubplot:title={'center':'Promo2SinceYear'}>,\n",
       "        <AxesSubplot:title={'center':'Month'}>,\n",
       "        <AxesSubplot:title={'center':'Quarter'}>,\n",
       "        <AxesSubplot:title={'center':'Year'}>],\n",
       "       [<AxesSubplot:title={'center':'Day'}>,\n",
       "        <AxesSubplot:title={'center':'Week'}>, <AxesSubplot:>,\n",
       "        <AxesSubplot:>]], dtype=object)"
      ]
     },
     "execution_count": 11,
     "metadata": {},
     "output_type": "execute_result"
    },
    {
     "data": {
      "image/png": "[encoded data removed]",
      "text/plain": [
       "<Figure size 1440x1440 with 20 Axes>"
      ]
     },
     "metadata": {
      "needs_background": "light"
     },
     "output_type": "display_data"
    }
   ],
   "source": [
    "#Use the histogram function provided by the Pandas object\n",
    "#The function returns a cross-tab histogram plot for all numeric columns in the data\n",
    "df_new.hist(figsize=(20,20))"
   ]
  },
  {
   "cell_type": "code",
   "execution_count": 12,
   "metadata": {},
   "outputs": [
    {
     "data": {
      "text/plain": [
       "Store                         0.000000\n",
       "DayOfWeek                     0.000000\n",
       "Date                          0.000000\n",
       "Sales                         0.000000\n",
       "Customers                     0.000000\n",
       "Open                          0.000000\n",
       "Promo                         0.000000\n",
       "StateHoliday                  0.000000\n",
       "SchoolHoliday                 0.000000\n",
       "StoreType                     0.000000\n",
       "Assortment                    0.000000\n",
       "CompetitionDistance           0.259730\n",
       "CompetitionOpenSinceMonth    31.787764\n",
       "CompetitionOpenSinceYear     31.787764\n",
       "Promo2                        0.000000\n",
       "Promo2SinceWeek              49.943620\n",
       "Promo2SinceYear              49.943620\n",
       "PromoInterval                49.943620\n",
       "Month                         0.000000\n",
       "Quarter                       0.000000\n",
       "Year                          0.000000\n",
       "Day                           0.000000\n",
       "Week                          0.000000\n",
       "Season                        0.000000\n",
       "dtype: float64"
      ]
     },
     "execution_count": 12,
     "metadata": {},
     "output_type": "execute_result"
    }
   ],
   "source": [
    "df_new.isnull().sum()/df_new.shape[0]*100"
   ]
  },
  {
   "cell_type": "code",
   "execution_count": 13,
   "metadata": {},
   "outputs": [
    {
     "data": {
      "text/plain": [
       "0.0"
      ]
     },
     "execution_count": 13,
     "metadata": {},
     "output_type": "execute_result"
    }
   ],
   "source": [
    "#Replace nulls with the mode\n",
    "df_new['CompetitionDistance']= df_new['CompetitionDistance'].fillna(df_new['CompetitionDistance'].mode()[0])\n",
    "#Double check if we still see nulls for the column\n",
    "df_new[\"CompetitionDistance\"].isnull().sum()/df_new.shape[0]*100"
   ]
  },
  {
   "cell_type": "code",
   "execution_count": 14,
   "metadata": {},
   "outputs": [
    {
     "data": {
      "image/png": "[encoded data removed]",
      "text/plain": [
       "<Figure size 432x288 with 1 Axes>"
      ]
     },
     "metadata": {},
     "output_type": "display_data"
    }
   ],
   "source": [
    "import seaborn as sns #Seaborn is another powerful visualization library for Python\n",
    "sns.set(style='whitegrid')\n",
    "\n",
    "#create the bar plot for Average Sales across different Seasons\n",
    "ax = sns.barplot(x='Season',y='Sales',data=df_new)"
   ]
  },
  {
   "cell_type": "code",
   "execution_count": 15,
   "metadata": {},
   "outputs": [
    {
     "data": {
      "image/png": "[encoded data removed]",
      "text/plain": [
       "<Figure size 432x288 with 1 Axes>"
      ]
     },
     "metadata": {},
     "output_type": "display_data"
    }
   ],
   "source": [
    "#create the bar plot for Average Sales across different Assortments\n",
    "ax = sns.barplot(x='Assortment',y='Sales',data=df_new)"
   ]
  },
  {
   "cell_type": "code",
   "execution_count": 16,
   "metadata": {},
   "outputs": [
    {
     "data": {
      "image/png": "[encoded data removed]",
      "text/plain": [
       "<Figure size 432x288 with 1 Axes>"
      ]
     },
     "metadata": {},
     "output_type": "display_data"
    }
   ],
   "source": [
    "#create the bar plot for Average Sales across different Store Types\n",
    "ax = sns.barplot(x='StoreType',y='Sales',data=df_new)"
   ]
  },
  {
   "cell_type": "code",
   "execution_count": 17,
   "metadata": {},
   "outputs": [
    {
     "data": {
      "image/png": "[encoded data removed]",
      "text/plain": [
       "<Figure size 432x288 with 1 Axes>"
      ]
     },
     "metadata": {},
     "output_type": "display_data"
    }
   ],
   "source": [
    "ax = sns.barplot(x='Season',y='Sales',data=df_new,estimator=np.size)"
   ]
  },
  {
   "cell_type": "code",
   "execution_count": 18,
   "metadata": {},
   "outputs": [
    {
     "data": {
      "image/png": "[encoded data removed]",
      "text/plain": [
       "<Figure size 432x288 with 1 Axes>"
      ]
     },
     "metadata": {},
     "output_type": "display_data"
    }
   ],
   "source": [
    "ax = sns.barplot(x='Assortment',y='Sales',data=df_new,estimator=np.size)"
   ]
  },
  {
   "cell_type": "code",
   "execution_count": 19,
   "metadata": {},
   "outputs": [
    {
     "data": {
      "image/png": "[encoded data removed]",
      "text/plain": [
       "<Figure size 432x288 with 1 Axes>"
      ]
     },
     "metadata": {},
     "output_type": "display_data"
    }
   ],
   "source": [
    "ax = sns.barplot(x='StoreType',y='Sales',data=df_new,estimator=np.size)"
   ]
  },
  {
   "cell_type": "code",
   "execution_count": 20,
   "metadata": {},
   "outputs": [],
   "source": [
    "#Define a variable for each type of feature\n",
    "from sklearn.preprocessing import LabelEncoder\n",
    "from sklearn.preprocessing import OneHotEncoder\n",
    "target = [\"Sales\"]\n",
    "numeric_columns = [\"Customers\",\"Open\",\"Promo\",\"Promo2\",\"StateHoliday\",\"SchoolHoliday\",\"CompetitionDistance\"]\n",
    "categorical_columns = [\"DayOfWeek\",\"Quarter\",\"Month\",\"Year\",\"StoreType\",\"Assortment\",\"Season\"]\n",
    "\n",
    "#Define a function that will intake the raw dataframe and the column name and return a one hot encoded DF\n",
    "def create_ohe(df,col):\n",
    "    le = LabelEncoder()\n",
    "    a = le.fit_transform(df_new[col]).reshape(-1,1)\n",
    "    ohe = OneHotEncoder(sparse=False)\n",
    "    column_names = [col+'_'+str(i) for i in le.classes_]\n",
    "    return(pd.DataFrame(ohe.fit_transform(a),columns = column_names))\n",
    "#Since the above function converts the column, one at a time\n",
    "#We create a loop to create the final dataset with all features\n",
    "temp = df_new[numeric_columns]\n",
    "for column in categorical_columns:\n",
    "    temp_df = create_ohe(df_new,column)\n",
    "    temp=pd.concat([temp,temp_df],axis=1)"
   ]
  },
  {
   "cell_type": "code",
   "execution_count": 21,
   "metadata": {},
   "outputs": [
    {
     "name": "stdout",
     "output_type": "stream",
     "text": [
      "Shape of Data: (1017209, 44)\n",
      "Distinct Datatypes: [dtype('int64') dtype('O') dtype('float64')]\n"
     ]
    }
   ],
   "source": [
    "print(\"Shape of Data:\",temp.shape)\n",
    "print(\"Distinct Datatypes:\",temp.dtypes.unique())"
   ]
  },
  {
   "cell_type": "code",
   "execution_count": 22,
   "metadata": {},
   "outputs": [
    {
     "name": "stdout",
     "output_type": "stream",
     "text": [
      "Index(['StateHoliday'], dtype='object')\n"
     ]
    }
   ],
   "source": [
    "print(temp.columns[temp.dtypes=='object'])"
   ]
  },
  {
   "cell_type": "code",
   "execution_count": 23,
   "metadata": {},
   "outputs": [
    {
     "data": {
      "text/plain": [
       "array(['0', 'a', 'b', 'c', 0], dtype=object)"
      ]
     },
     "execution_count": 23,
     "metadata": {},
     "output_type": "execute_result"
    }
   ],
   "source": [
    "temp['StateHoliday'].unique()"
   ]
  },
  {
   "cell_type": "code",
   "execution_count": 24,
   "metadata": {},
   "outputs": [
    {
     "data": {
      "text/plain": [
       "array([dtype('int64'), dtype('int32'), dtype('float64')], dtype=object)"
      ]
     },
     "execution_count": 24,
     "metadata": {},
     "output_type": "execute_result"
    }
   ],
   "source": [
    "temp['StateHoliday']=np.where(temp['StateHoliday']=='0',0,1)\n",
    "temp.dtypes.unique()"
   ]
  },
  {
   "cell_type": "code",
   "execution_count": 25,
   "metadata": {},
   "outputs": [
    {
     "name": "stdout",
     "output_type": "stream",
     "text": [
      "Shape of x_train: (732390, 44)\n",
      "Shape of x_val: (81377, 44)\n",
      "Shape of x_test: (203442, 44)\n",
      "Shape of y_train: (732390, 1)\n",
      "Shape of y_val: (81377, 1)\n",
      "Shape of y_test: (203442, 1)\n"
     ]
    }
   ],
   "source": [
    "from sklearn.model_selection import train_test_split\n",
    "#Create train and test dataset with an 80:20 split\n",
    "x_train, x_test, y_train, y_test = train_test_split(temp,df_new[target],test_size=0.2,random_state=2018)\n",
    "#Further divide training dataset into train and validation dataset with an 90:10 split\n",
    "x_train, x_val, y_train, y_val = train_test_split(x_train,y_train,test_size=0.1,random_state=2018)\n",
    "\n",
    "#Check the sizes of all newly created datasets\n",
    "print(\"Shape of x_train:\",x_train.shape)\n",
    "print(\"Shape of x_val:\",x_val.shape)\n",
    "print(\"Shape of x_test:\",x_test.shape)\n",
    "print(\"Shape of y_train:\",y_train.shape)\n",
    "print(\"Shape of y_val:\",y_val.shape)\n",
    "print(\"Shape of y_test:\",y_test.shape)"
   ]
  },
  {
   "cell_type": "code",
   "execution_count": 26,
   "metadata": {},
   "outputs": [
    {
     "name": "stdout",
     "output_type": "stream",
     "text": [
      "Average Sales : Sales    5773.099997\n",
      "dtype: float64\n"
     ]
    }
   ],
   "source": [
    "#calculate the average score of the train dataset\n",
    "mean_sales = y_train.mean()\n",
    "print('Average Sales :',mean_sales)"
   ]
  },
  {
   "cell_type": "code",
   "execution_count": 27,
   "metadata": {},
   "outputs": [
    {
     "name": "stdout",
     "output_type": "stream",
     "text": [
      "MAE for Test Data: 2883.587604303215\n"
     ]
    }
   ],
   "source": [
    "print('MAE for Test Data:',abs(y_test - mean_sales).mean()[0])"
   ]
  },
  {
   "cell_type": "code",
   "execution_count": 28,
   "metadata": {},
   "outputs": [
    {
     "name": "stdout",
     "output_type": "stream",
     "text": [
      "Epoch 1/10\n",
      "11444/11444 [==============================] - 8s 664us/step - loss: 1218.2724 - mean_absolute_error: 1218.2724 - val_loss: 834.0995 - val_mean_absolute_error: 834.0995\n",
      "Epoch 2/10\n",
      "11444/11444 [==============================] - 6s 544us/step - loss: 803.1011 - mean_absolute_error: 803.1011 - val_loss: 752.5821 - val_mean_absolute_error: 752.5821\n",
      "Epoch 3/10\n",
      "11444/11444 [==============================] - 6s 546us/step - loss: 745.5069 - mean_absolute_error: 745.5069 - val_loss: 759.5249 - val_mean_absolute_error: 759.5249\n",
      "Epoch 4/10\n",
      "11444/11444 [==============================] - 6s 547us/step - loss: 726.0719 - mean_absolute_error: 726.0719 - val_loss: 711.6550 - val_mean_absolute_error: 711.6550\n",
      "Epoch 5/10\n",
      "11444/11444 [==============================] - 6s 553us/step - loss: 715.7123 - mean_absolute_error: 715.7123 - val_loss: 736.5947 - val_mean_absolute_error: 736.5947\n",
      "Epoch 6/10\n",
      "11444/11444 [==============================] - 6s 548us/step - loss: 708.2266 - mean_absolute_error: 708.2266 - val_loss: 699.6629 - val_mean_absolute_error: 699.6629\n",
      "Epoch 7/10\n",
      "11444/11444 [==============================] - 6s 552us/step - loss: 703.3860 - mean_absolute_error: 703.3860 - val_loss: 695.4264 - val_mean_absolute_error: 695.4264\n",
      "Epoch 8/10\n",
      "11444/11444 [==============================] - 6s 550us/step - loss: 697.6920 - mean_absolute_error: 697.6920 - val_loss: 697.4682 - val_mean_absolute_error: 697.4682\n",
      "Epoch 9/10\n",
      "11444/11444 [==============================] - 6s 552us/step - loss: 695.4610 - mean_absolute_error: 695.4610 - val_loss: 692.7902 - val_mean_absolute_error: 692.7902\n",
      "Epoch 10/10\n",
      "11444/11444 [==============================] - 6s 549us/step - loss: 688.2934 - mean_absolute_error: 688.2934 - val_loss: 687.6128 - val_mean_absolute_error: 687.6128\n"
     ]
    },
    {
     "data": {
      "text/plain": [
       "<tensorflow.python.keras.callbacks.History at 0x1689a2f7cd0>"
      ]
     },
     "execution_count": 28,
     "metadata": {},
     "output_type": "execute_result"
    }
   ],
   "source": [
    "#Create Deep Neural Network Architecture\n",
    "from keras.models import Sequential\n",
    "from keras.layers import Dense, Dropout\n",
    "\n",
    "model = Sequential()\n",
    "model.add(Dense(150,input_dim=44,activation='relu'))\n",
    "#The input_dim=44,since the widtin of the training data = 44(refer data engg section)\n",
    "model.add(Dense(1,activation='linear'))\n",
    "\n",
    "#Configure the model\n",
    "model.compile(optimizer='adam',loss='mean_absolute_error',metrics=['mean_absolute_error'])\n",
    "\n",
    "#Train the model\n",
    "model.fit(x_train.values,y_train.values,validation_data=(x_val,y_val),epochs=10,batch_size=64)"
   ]
  },
  {
   "cell_type": "code",
   "execution_count": 29,
   "metadata": {},
   "outputs": [
    {
     "name": "stdout",
     "output_type": "stream",
     "text": [
      "6358/6358 [==============================] - 3s 531us/step - loss: 684.0735 - mean_absolute_error: 684.0735\n",
      "Metric  loss : 684.07\n",
      "Metric  mean_absolute_error : 684.07\n"
     ]
    }
   ],
   "source": [
    "#Use the model's evaluate method to predict and evaluate the test datasets\n",
    "result = model.evaluate(x_test.values,y_test.values)\n",
    "\n",
    "#Print the results\n",
    "for i in range(len(model.metrics_names)):\n",
    "    print('Metric ',model.metrics_names[i],':',str(round(result[i],2)))"
   ]
  },
  {
   "cell_type": "code",
   "execution_count": 31,
   "metadata": {},
   "outputs": [
    {
     "name": "stdout",
     "output_type": "stream",
     "text": [
      "Epoch 1/10\n",
      "11444/11444 [==============================] - 9s 786us/step - loss: 2599950.6042 - mean_absolute_error: 994.6555 - val_loss: 1193990.1250 - val_mean_absolute_error: 732.1304\n",
      "Epoch 2/10\n",
      "11444/11444 [==============================] - 9s 770us/step - loss: 1183202.2051 - mean_absolute_error: 730.0368 - val_loss: 1160201.1250 - val_mean_absolute_error: 714.7128\n",
      "Epoch 3/10\n",
      "11444/11444 [==============================] - 9s 777us/step - loss: 1102373.7228 - mean_absolute_error: 702.9643 - val_loss: 1066487.8750 - val_mean_absolute_error: 694.9440\n",
      "Epoch 4/10\n",
      "11444/11444 [==============================] - 9s 782us/step - loss: 1045680.1791 - mean_absolute_error: 687.7364 - val_loss: 1004904.2500 - val_mean_absolute_error: 676.2129\n",
      "Epoch 5/10\n",
      "11444/11444 [==============================] - 9s 780us/step - loss: 1034762.9189 - mean_absolute_error: 682.4074 - val_loss: 989841.8750 - val_mean_absolute_error: 673.2017\n",
      "Epoch 6/10\n",
      "11444/11444 [==============================] - 9s 778us/step - loss: 1013325.1465 - mean_absolute_error: 677.2022 - val_loss: 961770.6250 - val_mean_absolute_error: 671.9147\n",
      "Epoch 7/10\n",
      "11444/11444 [==============================] - 9s 784us/step - loss: 979719.6272 - mean_absolute_error: 668.6153 - val_loss: 935241.5000 - val_mean_absolute_error: 655.7705\n",
      "Epoch 8/10\n",
      "11444/11444 [==============================] - 9s 792us/step - loss: 957676.2404 - mean_absolute_error: 661.1093 - val_loss: 1001383.5625 - val_mean_absolute_error: 687.5805\n",
      "Epoch 9/10\n",
      "11444/11444 [==============================] - 9s 778us/step - loss: 942704.0361 - mean_absolute_error: 656.2222 - val_loss: 899088.3125 - val_mean_absolute_error: 639.3037\n",
      "Epoch 10/10\n",
      "11444/11444 [==============================] - 9s 784us/step - loss: 932984.6145 - mean_absolute_error: 652.6598 - val_loss: 861742.1875 - val_mean_absolute_error: 631.8156\n",
      "Metric  loss : 684.07\n",
      "Metric  mean_absolute_error : 684.07\n"
     ]
    }
   ],
   "source": [
    "model = Sequential()\n",
    "model.add(Dense(150,input_dim = 44,activation = 'relu'))\n",
    "model.add(Dense(150,activation='relu'))\n",
    "model.add(Dense(150,activation='relu'))\n",
    "model.add(Dense(1,activation = 'linear'))\n",
    "model.compile(optimizer='adam',loss='mean_squared_error',metrics=['mean_absolute_error'])\n",
    "history = model.fit(x_train,y_train, validation_data=(x_val,y_val),epochs=10,batch_size=64)\n",
    "#result = model.evaluate(x_test,y_test)\n",
    "for i in range(len(model.metrics_names)):\n",
    "    print(\"Metric \",model.metrics_names[i],\":\",str(round(result[i],2)))"
   ]
  },
  {
   "cell_type": "code",
   "execution_count": 32,
   "metadata": {},
   "outputs": [
    {
     "name": "stdout",
     "output_type": "stream",
     "text": [
      "Epoch 1/15\n",
      "11444/11444 [==============================] - 9s 782us/step - loss: 2721092.4100 - mean_absolute_error: 1009.0311 - val_loss: 1213104.6250 - val_mean_absolute_error: 761.2899\n",
      "Epoch 2/15\n",
      "11444/11444 [==============================] - 9s 779us/step - loss: 1192733.0853 - mean_absolute_error: 733.3186 - val_loss: 1020453.8750 - val_mean_absolute_error: 682.3318\n",
      "Epoch 3/15\n",
      "11444/11444 [==============================] - 9s 784us/step - loss: 1105325.8666 - mean_absolute_error: 704.7448 - val_loss: 1044370.1250 - val_mean_absolute_error: 689.5157\n",
      "Epoch 4/15\n",
      "11444/11444 [==============================] - 9s 789us/step - loss: 1055475.4661 - mean_absolute_error: 691.0151 - val_loss: 972710.1250 - val_mean_absolute_error: 673.3538\n",
      "Epoch 5/15\n",
      "11444/11444 [==============================] - 9s 780us/step - loss: 1031580.0650 - mean_absolute_error: 681.3441 - val_loss: 1014198.1250 - val_mean_absolute_error: 691.6212\n",
      "Epoch 6/15\n",
      "11444/11444 [==============================] - 9s 788us/step - loss: 1012758.4016 - mean_absolute_error: 676.2123 - val_loss: 946250.0625 - val_mean_absolute_error: 656.2122\n",
      "Epoch 7/15\n",
      "11444/11444 [==============================] - 9s 787us/step - loss: 985007.6713 - mean_absolute_error: 669.1238 - val_loss: 995337.3125 - val_mean_absolute_error: 679.7530\n",
      "Epoch 8/15\n",
      "11444/11444 [==============================] - 9s 782us/step - loss: 969436.6835 - mean_absolute_error: 664.5883 - val_loss: 954005.1250 - val_mean_absolute_error: 666.2380\n",
      "Epoch 9/15\n",
      "11444/11444 [==============================] - 9s 780us/step - loss: 960568.0207 - mean_absolute_error: 661.3656 - val_loss: 894572.1250 - val_mean_absolute_error: 641.3121\n",
      "Epoch 10/15\n",
      "11444/11444 [==============================] - 9s 785us/step - loss: 936358.0439 - mean_absolute_error: 653.0571 - val_loss: 875696.5000 - val_mean_absolute_error: 638.2689\n",
      "Epoch 11/15\n",
      "11444/11444 [==============================] - 9s 788us/step - loss: 923739.3326 - mean_absolute_error: 647.7204 - val_loss: 906431.0000 - val_mean_absolute_error: 652.7023\n",
      "Epoch 12/15\n",
      "11444/11444 [==============================] - 9s 784us/step - loss: 910138.1207 - mean_absolute_error: 644.5159 - val_loss: 860313.1875 - val_mean_absolute_error: 627.9975\n",
      "Epoch 13/15\n",
      "11444/11444 [==============================] - 9s 781us/step - loss: 897327.4763 - mean_absolute_error: 638.5183 - val_loss: 837267.3125 - val_mean_absolute_error: 623.6627\n",
      "Epoch 14/15\n",
      "11444/11444 [==============================] - 9s 783us/step - loss: 880891.1997 - mean_absolute_error: 634.1277 - val_loss: 858826.6875 - val_mean_absolute_error: 634.5434\n",
      "Epoch 15/15\n",
      "11444/11444 [==============================] - 9s 782us/step - loss: 885205.0616 - mean_absolute_error: 632.5083 - val_loss: 841696.6875 - val_mean_absolute_error: 617.1443\n",
      "Metric  loss : 684.07\n",
      "Metric  mean_absolute_error : 684.07\n"
     ]
    }
   ],
   "source": [
    "model = Sequential()\n",
    "model.add(Dense(150,input_dim = 44,activation = 'relu'))\n",
    "model.add(Dense(150,activation='relu'))\n",
    "model.add(Dense(150,activation='relu'))\n",
    "model.add(Dense(1,activation = 'linear'))\n",
    "model.compile(optimizer='adam',loss='mean_squared_error',metrics=['mean_absolute_error'])\n",
    "history = model.fit(x_train,y_train, validation_data=(x_val,y_val),epochs=15,batch_size=64)\n",
    "#result = model.evaluate(x_test,y_test)\n",
    "for i in range(len(model.metrics_names)):\n",
    "    print(\"Metric \",model.metrics_names[i],\":\",str(round(result[i],2)))"
   ]
  },
  {
   "cell_type": "code",
   "execution_count": 33,
   "metadata": {},
   "outputs": [
    {
     "name": "stdout",
     "output_type": "stream",
     "text": [
      "Epoch 1/15\n",
      "11444/11444 [==============================] - 25s 2ms/step - loss: 2534886.6945 - mean_absolute_error: 987.2195 - val_loss: 1151531.2500 - val_mean_absolute_error: 720.4243\n",
      "Epoch 2/15\n",
      "11444/11444 [==============================] - 25s 2ms/step - loss: 1171245.6518 - mean_absolute_error: 730.2765 - val_loss: 1040230.6875 - val_mean_absolute_error: 694.3784\n",
      "Epoch 3/15\n",
      "11444/11444 [==============================] - 25s 2ms/step - loss: 1105809.2443 - mean_absolute_error: 708.2481 - val_loss: 1032249.8125 - val_mean_absolute_error: 693.9862\n",
      "Epoch 4/15\n",
      "11444/11444 [==============================] - 22s 2ms/step - loss: 1047096.8701 - mean_absolute_error: 688.2759 - val_loss: 1093310.3750 - val_mean_absolute_error: 700.5588\n",
      "Epoch 5/15\n",
      "11444/11444 [==============================] - 20s 2ms/step - loss: 1042264.1504 - mean_absolute_error: 684.1012 - val_loss: 987793.5000 - val_mean_absolute_error: 684.0974\n",
      "Epoch 6/15\n",
      "11444/11444 [==============================] - 20s 2ms/step - loss: 1002062.0124 - mean_absolute_error: 673.2563 - val_loss: 971586.6875 - val_mean_absolute_error: 667.0195\n",
      "Epoch 7/15\n",
      "11444/11444 [==============================] - 21s 2ms/step - loss: 991357.0355 - mean_absolute_error: 668.7710 - val_loss: 934762.6250 - val_mean_absolute_error: 656.5823\n",
      "Epoch 8/15\n",
      "11444/11444 [==============================] - 20s 2ms/step - loss: 966835.7069 - mean_absolute_error: 662.4813 - val_loss: 938000.5625 - val_mean_absolute_error: 655.2775\n",
      "Epoch 9/15\n",
      "11444/11444 [==============================] - 20s 2ms/step - loss: 962634.6922 - mean_absolute_error: 660.6482 - val_loss: 951955.4375 - val_mean_absolute_error: 671.8716\n",
      "Epoch 10/15\n",
      "11444/11444 [==============================] - 20s 2ms/step - loss: 953919.5026 - mean_absolute_error: 657.1303 - val_loss: 901817.0000 - val_mean_absolute_error: 652.5180\n",
      "Epoch 11/15\n",
      "11444/11444 [==============================] - 21s 2ms/step - loss: 944302.5718 - mean_absolute_error: 655.3381 - val_loss: 898659.8750 - val_mean_absolute_error: 645.6804\n",
      "Epoch 12/15\n",
      "11444/11444 [==============================] - 20s 2ms/step - loss: 927067.4300 - mean_absolute_error: 649.4584 - val_loss: 885603.2500 - val_mean_absolute_error: 640.1345\n",
      "Epoch 13/15\n",
      "11444/11444 [==============================] - 20s 2ms/step - loss: 906698.8427 - mean_absolute_error: 643.7669 - val_loss: 877269.1250 - val_mean_absolute_error: 642.2379\n",
      "Epoch 14/15\n",
      "11444/11444 [==============================] - 19s 2ms/step - loss: 904171.4009 - mean_absolute_error: 641.6824 - val_loss: 885834.8750 - val_mean_absolute_error: 636.9895\n",
      "Epoch 15/15\n",
      "11444/11444 [==============================] - 19s 2ms/step - loss: 887254.8079 - mean_absolute_error: 635.5189 - val_loss: 842488.3125 - val_mean_absolute_error: 622.3554\n",
      "6358/6358 [==============================] - 4s 660us/step - loss: 839418.0000 - mean_absolute_error: 617.9252\n",
      "Metric  loss : 839418.0\n",
      "Metric  mean_absolute_error : 617.93\n"
     ]
    }
   ],
   "source": [
    "model = Sequential()\n",
    "model.add(Dense(350,input_dim = 44,activation='relu'))\n",
    "model.add(Dense(350,activation='relu'))\n",
    "model.add(Dense(1,activation = 'linear'))\n",
    "\n",
    "model.compile(optimizer='adam',loss='mean_squared_error',metrics=['mean_absolute_error'])\n",
    "model.fit(x_train,y_train,validation_data=(x_val,y_val),epochs=15,batch_size=64)\n",
    "\n",
    "result = model.evaluate(x_test,y_test)\n",
    "for i in range(len(model.metrics_names)):\n",
    "    print('Metric ',model.metrics_names[i],':',str(round(result[i],2)))"
   ]
  },
  {
   "cell_type": "code",
   "execution_count": 34,
   "metadata": {},
   "outputs": [
    {
     "name": "stdout",
     "output_type": "stream",
     "text": [
      "Epoch 1/15\n",
      "11444/11444 [==============================] - 27s 2ms/step - loss: 2390988.9137 - mean_absolute_error: 974.3362 - val_loss: 1187058.1250 - val_mean_absolute_error: 729.4677\n",
      "Epoch 2/15\n",
      "11444/11444 [==============================] - 26s 2ms/step - loss: 1191432.9154 - mean_absolute_error: 732.8080 - val_loss: 1195910.3750 - val_mean_absolute_error: 731.4968\n",
      "Epoch 3/15\n",
      "11444/11444 [==============================] - 27s 2ms/step - loss: 1107266.5785 - mean_absolute_error: 706.6618 - val_loss: 1041064.5000 - val_mean_absolute_error: 701.0269\n",
      "Epoch 4/15\n",
      "11444/11444 [==============================] - 27s 2ms/step - loss: 1079730.4911 - mean_absolute_error: 695.3639 - val_loss: 1036361.6250 - val_mean_absolute_error: 678.9615\n",
      "Epoch 5/15\n",
      "11444/11444 [==============================] - 27s 2ms/step - loss: 1049813.2198 - mean_absolute_error: 685.7058 - val_loss: 1075628.5000 - val_mean_absolute_error: 703.0933\n",
      "Epoch 6/15\n",
      "11444/11444 [==============================] - 26s 2ms/step - loss: 1032123.8200 - mean_absolute_error: 679.8748 - val_loss: 1040451.9375 - val_mean_absolute_error: 688.9473\n",
      "Epoch 7/15\n",
      "11444/11444 [==============================] - 26s 2ms/step - loss: 1004891.1415 - mean_absolute_error: 671.1619 - val_loss: 947624.0625 - val_mean_absolute_error: 670.3911\n",
      "Epoch 8/15\n",
      "11444/11444 [==============================] - 26s 2ms/step - loss: 983074.7544 - mean_absolute_error: 665.2118 - val_loss: 948423.5625 - val_mean_absolute_error: 666.1945\n",
      "Epoch 9/15\n",
      "11444/11444 [==============================] - 26s 2ms/step - loss: 957773.1978 - mean_absolute_error: 657.2734 - val_loss: 922919.6250 - val_mean_absolute_error: 651.3541\n",
      "Epoch 10/15\n",
      "11444/11444 [==============================] - 29s 3ms/step - loss: 937668.7871 - mean_absolute_error: 650.2228 - val_loss: 942325.8125 - val_mean_absolute_error: 668.5148\n",
      "Epoch 11/15\n",
      "11444/11444 [==============================] - 29s 3ms/step - loss: 925153.8645 - mean_absolute_error: 646.5725 - val_loss: 927979.0625 - val_mean_absolute_error: 641.4799\n",
      "Epoch 12/15\n",
      "11444/11444 [==============================] - 28s 2ms/step - loss: 907266.0960 - mean_absolute_error: 640.0307 - val_loss: 860907.0625 - val_mean_absolute_error: 622.5905\n",
      "Epoch 13/15\n",
      "11444/11444 [==============================] - 33s 3ms/step - loss: 887876.5134 - mean_absolute_error: 632.4860 - val_loss: 894785.4375 - val_mean_absolute_error: 638.8070\n",
      "Epoch 14/15\n",
      "11444/11444 [==============================] - 34s 3ms/step - loss: 872015.2468 - mean_absolute_error: 627.7067 - val_loss: 846957.0000 - val_mean_absolute_error: 620.4738\n",
      "Epoch 15/15\n",
      "11444/11444 [==============================] - 33s 3ms/step - loss: 868023.4020 - mean_absolute_error: 624.1101 - val_loss: 825683.0000 - val_mean_absolute_error: 615.5600\n",
      "6358/6358 [==============================] - 5s 752us/step - loss: 830029.4375 - mean_absolute_error: 613.8358\n",
      "Metric  loss : 830029.44\n",
      "Metric  mean_absolute_error : 613.84\n"
     ]
    }
   ],
   "source": [
    "from keras.callbacks import History\n",
    "history = History()\n",
    "\n",
    "model = Sequential()\n",
    "model.add(Dense(350,input_dim = 44,activation='relu'))\n",
    "model.add(Dense(350,activation='relu'))\n",
    "model.add(Dense(350,activation='relu'))\n",
    "model.add(Dense(350,activation='relu'))\n",
    "model.add(Dense(350,activation='relu'))\n",
    "model.add(Dense(1,activation = 'linear'))\n",
    "\n",
    "model.compile(optimizer='adam',loss='mean_squared_error',metrics=['mean_absolute_error'])\n",
    "\n",
    "model.fit(x_train,y_train,validation_data=(x_val,y_val),epochs=15,batch_size=64,callbacks=[history])\n",
    "\n",
    "result = model.evaluate(x_test,y_test)\n",
    "for i in range(len(model.metrics_names)):\n",
    "    print('Metric ',model.metrics_names[i],':',str(round(result[i],2)))"
   ]
  },
  {
   "cell_type": "code",
   "execution_count": 54,
   "metadata": {},
   "outputs": [
    {
     "data": {
      "image/png": "[encoded data removed]",
      "text/plain": [
       "<Figure size 432x288 with 1 Axes>"
      ]
     },
     "metadata": {},
     "output_type": "display_data"
    }
   ],
   "source": [
    "plt.plot(history.history['loss'])\n",
    "plt.plot(history.history['val_loss'])\n",
    "plt.title(\"Model's Training & Validation loss across epochs\")\n",
    "plt.ylabel('Loss')\n",
    "plt.xlabel('Epochs')\n",
    "plt.legend(['Train','Validation'],loc='upper right')\n",
    "plt.show()"
   ]
  },
  {
   "cell_type": "code",
   "execution_count": 64,
   "metadata": {},
   "outputs": [
    {
     "name": "stdout",
     "output_type": "stream",
     "text": [
      "        Actual Sales  Predicted Sales   Prediction\n",
      "115563             0         1.232021     1.232021\n",
      "832654             0         1.232021     1.232021\n",
      "769112          2933      3171.629639  3171.629639\n",
      "350588          8602      7756.783203  7756.783203\n",
      "141556          6975      6560.319336  6560.319336\n",
      "84435           9239      9194.597656  9194.597656\n",
      "53018              0         1.232021     1.232021\n",
      "262419             0         1.232021     1.232021\n",
      "702267          5885      5336.246582  5336.246582\n",
      "981431             0         1.232021     1.232021\n",
      "MSE : 830028.9984995762\n",
      "MAE : 613.8355970039082\n"
     ]
    }
   ],
   "source": [
    "#Manually predicting from the model, instead of using model's evaluate function\n",
    "y_test['Prediction'] = model.predict(x_test)\n",
    "print(y_test.head(10))\n",
    "\n",
    "#Manually predicting from the model,instead of using model's evaluate function\n",
    "from sklearn.metrics import mean_squared_error, mean_absolute_error\n",
    "print('MSE :',mean_squared_error(y_test['Actual Sales'].values,y_test['Predicted Sales'].values))\n",
    "print('MAE :',mean_absolute_error(y_test['Actual Sales'].values,y_test['Predicted Sales'].values))"
   ]
  },
  {
   "cell_type": "code",
   "execution_count": null,
   "metadata": {},
   "outputs": [],
   "source": []
  }
 ],
 "metadata": {
  "kernelspec": {
   "display_name": "Python 3",
   "language": "python",
   "name": "python3"
  },
  "language_info": {
   "codemirror_mode": {
    "name": "ipython",
    "version": 3
   },
   "file_extension": ".py",
   "mimetype": "text/x-python",
   "name": "python",
   "nbconvert_exporter": "python",
   "pygments_lexer": "ipython3",
   "version": "3.8.5"
  }
 },
 "nbformat": 4,
 "nbformat_minor": 4
}
