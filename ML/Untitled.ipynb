{
 "cells": [
  {
   "cell_type": "code",
   "execution_count": 4,
   "metadata": {},
   "outputs": [],
   "source": [
    "from keras.datasets import imdb\n",
    "from keras.preprocessing import sequence\n",
    "from keras.preprocessing.text import Tokenizer\n",
    "import numpy as np\n",
    "import re\n",
    "re_tag = re.compile(r'<[^>]+>')\n",
    " \n",
    "def rm_tags(text):\n",
    "    return re_tag.sub('', text)\n",
    " \n",
    "import os\n",
    "def read_files(filetype):\n",
    "    path = \"./aclImdb/\"\n",
    "    file_list=[]\n",
    " \n",
    "    positive_path=path + filetype+\"/pos/\"\n",
    "    for f in os.listdir(positive_path):\n",
    "        file_list+=[positive_path+f]\n",
    "    \n",
    "    negative_path=path + filetype+\"/neg/\"\n",
    "    for f in os.listdir(negative_path):\n",
    "        file_list+=[negative_path+f]\n",
    "        \n",
    "    print('read',filetype, 'files:',len(file_list))\n",
    "       \n",
    "    all_labels = ([1] * 12500 + [0] * 12500) \n",
    "    \n",
    "    all_texts  = []\n",
    "    \n",
    "    for fi in file_list:\n",
    "        with open(fi,encoding='utf8') as file_input:\n",
    "            all_texts += [rm_tags(\" \".join(file_input.readlines()))]\n",
    "            \n",
    "    return np.array(all_labels),np.array(all_texts)\n"
   ]
  },
  {
   "cell_type": "code",
   "execution_count": 5,
   "metadata": {},
   "outputs": [
    {
     "name": "stdout",
     "output_type": "stream",
     "text": [
      "read train files: 25000\n",
      "read test files: 25000\n"
     ]
    }
   ],
   "source": [
    "y_train,train_text=read_files(\"train\")\n",
    "y_test,test_text=read_files(\"test\")"
   ]
  },
  {
   "cell_type": "code",
   "execution_count": 8,
   "metadata": {},
   "outputs": [
    {
     "name": "stdout",
     "output_type": "stream",
     "text": [
      "1\n"
     ]
    }
   ],
   "source": [
    "print(y_train[0])"
   ]
  },
  {
   "cell_type": "code",
   "execution_count": null,
   "metadata": {},
   "outputs": [],
   "source": [
    "token = Tokenizer(num_words=3800)"
   ]
  },
  {
   "cell_type": "code",
   "execution_count": 9,
   "metadata": {},
   "outputs": [
    {
     "name": "stdout",
     "output_type": "stream",
     "text": [
      "<keras_preprocessing.text.Tokenizer object at 0x000001EA83277E80>\n"
     ]
    }
   ],
   "source": [
    "print(token)"
   ]
  },
  {
   "cell_type": "code",
   "execution_count": 11,
   "metadata": {},
   "outputs": [],
   "source": [
    "token.fit_on_texts(train_text)"
   ]
  },
  {
   "cell_type": "code",
   "execution_count": 13,
   "metadata": {},
   "outputs": [
    {
     "name": "stdout",
     "output_type": "stream",
     "text": [
      "<keras_preprocessing.text.Tokenizer object at 0x000001EA83277E80>\n"
     ]
    }
   ],
   "source": [
    "print(token)"
   ]
  },
  {
   "cell_type": "code",
   "execution_count": null,
   "metadata": {},
   "outputs": [],
   "source": [
    "x_train_seq = token.texts_to_sequences(train_text)\n",
    "x_test_seq  = token.texts_to_sequences(test_text)"
   ]
  },
  {
   "cell_type": "code",
   "execution_count": 20,
   "metadata": {},
   "outputs": [
    {
     "name": "stdout",
     "output_type": "stream",
     "text": [
      "[38, 13, 739, 3413, 43, 73, 31, 1828, 14, 149, 17, 111, 3, 1338, 5, 335, 144, 19, 1, 886, 11, 67, 276, 1190, 402, 33, 118, 282, 35, 166, 5, 391, 153, 38, 2304, 14, 1, 546, 87, 80, 100, 4, 1, 3263, 13, 39, 3, 412, 1199, 133, 40, 179, 137, 13, 3080, 1, 321, 19, 358, 5, 3107, 2126, 1, 38, 44, 3656, 25, 371, 5, 126, 52, 19, 1, 1980, 17, 47, 44, 21, 67, 344, 3, 2128, 5, 408, 19, 1, 1980, 14, 3, 3229, 205, 1, 21, 276, 65, 35, 3, 340, 1, 719, 725, 3, 1264, 19, 1, 1506, 3, 1220, 2, 282, 21, 276, 2523, 5, 63, 47, 41, 36, 5, 25, 3263, 11, 6, 2030, 3763, 3208, 33, 33, 379, 13, 294, 3, 1022, 128, 33, 43, 282, 7, 1, 178, 362, 5, 93, 3, 2128, 15, 3, 2995, 5, 63, 44, 26, 66, 408, 7, 1, 1980, 14, 3247, 499, 205, 1, 44, 2875, 26, 66, 78, 47, 26, 490, 15, 3, 701, 1181, 4, 227, 49, 1, 19, 117, 6, 1367, 19, 1, 886, 15, 3, 19, 23, 5, 23, 171, 843, 117, 26, 187, 1483, 121, 1, 236, 344, 1, 30, 3, 99, 41, 394, 19, 23, 117, 888, 81, 101, 582, 3, 251, 30, 1, 399, 4, 1956, 31, 1230, 3183, 33, 184, 154, 2320, 37, 340, 2, 37, 2223, 2, 2600, 33, 22, 454, 338, 5, 1, 1980, 502, 214, 236, 20, 338, 5, 36, 26, 276, 118, 50, 108, 1022, 117, 41, 544, 38, 2812, 511, 38, 25, 551, 133, 1, 115, 2015, 196, 2, 281, 1660, 5, 110, 9, 254, 109, 5, 25, 27, 4, 3763, 104, 117, 2587, 5, 108, 3, 208, 8, 283, 3, 495, 1074, 5, 23, 2750, 153, 137, 13, 181, 38, 14, 1, 546, 5, 119, 47, 41, 36, 256, 138, 154, 2320, 8, 1, 371, 247, 38, 19, 1, 81, 503, 227, 3, 374, 2128, 36, 28, 1022, 80, 78, 50, 32, 88, 120, 47, 5, 78, 15, 64, 274, 275, 32, 140, 198, 8, 5, 1, 3263, 300, 4, 767, 8, 36, 274, 38, 275, 10, 18, 76, 21, 5, 335, 404]\n"
     ]
    }
   ],
   "source": [
    "print(x_train_seq[1])"
   ]
  },
  {
   "cell_type": "code",
   "execution_count": 21,
   "metadata": {},
   "outputs": [],
   "source": [
    "x_train = sequence.pad_sequences(x_train_seq, maxlen=380)\n",
    "x_test  = sequence.pad_sequences(x_test_seq,  maxlen=380)"
   ]
  },
  {
   "cell_type": "code",
   "execution_count": 22,
   "metadata": {},
   "outputs": [
    {
     "name": "stdout",
     "output_type": "stream",
     "text": [
      "[   0    0    0    0    0    0    0    0    0    0    0    0    0    0\n",
      "    0   38   13  739 3413   43   73   31 1828   14  149   17  111    3\n",
      " 1338    5  335  144   19    1  886   11   67  276 1190  402   33  118\n",
      "  282   35  166    5  391  153   38 2304   14    1  546   87   80  100\n",
      "    4    1 3263   13   39    3  412 1199  133   40  179  137   13 3080\n",
      "    1  321   19  358    5 3107 2126    1   38   44 3656   25  371    5\n",
      "  126   52   19    1 1980   17   47   44   21   67  344    3 2128    5\n",
      "  408   19    1 1980   14    3 3229  205    1   21  276   65   35    3\n",
      "  340    1  719  725    3 1264   19    1 1506    3 1220    2  282   21\n",
      "  276 2523    5   63   47   41   36    5   25 3263   11    6 2030 3763\n",
      " 3208   33   33  379   13  294    3 1022  128   33   43  282    7    1\n",
      "  178  362    5   93    3 2128   15    3 2995    5   63   44   26   66\n",
      "  408    7    1 1980   14 3247  499  205    1   44 2875   26   66   78\n",
      "   47   26  490   15    3  701 1181    4  227   49    1   19  117    6\n",
      " 1367   19    1  886   15    3   19   23    5   23  171  843  117   26\n",
      "  187 1483  121    1  236  344    1   30    3   99   41  394   19   23\n",
      "  117  888   81  101  582    3  251   30    1  399    4 1956   31 1230\n",
      " 3183   33  184  154 2320   37  340    2   37 2223    2 2600   33   22\n",
      "  454  338    5    1 1980  502  214  236   20  338    5   36   26  276\n",
      "  118   50  108 1022  117   41  544   38 2812  511   38   25  551  133\n",
      "    1  115 2015  196    2  281 1660    5  110    9  254  109    5   25\n",
      "   27    4 3763  104  117 2587    5  108    3  208    8  283    3  495\n",
      " 1074    5   23 2750  153  137   13  181   38   14    1  546    5  119\n",
      "   47   41   36  256  138  154 2320    8    1  371  247   38   19    1\n",
      "   81  503  227    3  374 2128   36   28 1022   80   78   50   32   88\n",
      "  120   47    5   78   15   64  274  275   32  140  198    8    5    1\n",
      " 3263  300    4  767    8   36  274   38  275   10   18   76   21    5\n",
      "  335  404]\n"
     ]
    }
   ],
   "source": [
    "print(x_train[1])"
   ]
  },
  {
   "cell_type": "code",
   "execution_count": null,
   "metadata": {},
   "outputs": [],
   "source": []
  }
 ],
 "metadata": {
  "kernelspec": {
   "display_name": "Python 3",
   "language": "python",
   "name": "python3"
  },
  "language_info": {
   "codemirror_mode": {
    "name": "ipython",
    "version": 3
   },
   "file_extension": ".py",
   "mimetype": "text/x-python",
   "name": "python",
   "nbconvert_exporter": "python",
   "pygments_lexer": "ipython3",
   "version": "3.6.12"
  }
 },
 "nbformat": 4,
 "nbformat_minor": 4
}
