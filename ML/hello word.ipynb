{
 "cells": [
  {
   "cell_type": "code",
   "execution_count": 1,
   "metadata": {},
   "outputs": [
    {
     "data": {
      "text/plain": [
       "'3.6.12 |Anaconda, Inc.| (default, Sep  9 2020, 00:29:25) [MSC v.1916 64 bit (AMD64)]'"
      ]
     },
     "execution_count": 1,
     "metadata": {},
     "output_type": "execute_result"
    }
   ],
   "source": [
    "import sys \n",
    "sys.version"
   ]
  },
  {
   "cell_type": "code",
   "execution_count": 1,
   "metadata": {},
   "outputs": [
    {
     "name": "stdout",
     "output_type": "stream",
     "text": [
      "hello word\n"
     ]
    }
   ],
   "source": [
    "print(\"hello word\")"
   ]
  },
  {
   "cell_type": "code",
   "execution_count": 10,
   "metadata": {},
   "outputs": [
    {
     "name": "stdout",
     "output_type": "stream",
     "text": [
      "请输入数字:2\n",
      "请输入相加的个数:2\n",
      "24=2+22\n"
     ]
    }
   ],
   "source": [
    "num = input(\"请输入数字:\")\n",
    "count = int(input(\"请输入相加的个数:\"))\n",
    "get_sum = 0  # 统计和\n",
    "str_list = []\n",
    "for i in range(1, count + 1):\n",
    "    # 将每个元素存入到列表中 用于后面的结果拼接\n",
    "    str_list.append(str(num * i))\n",
    "    # 累加\n",
    "    get_sum += int(num * i)\n",
    "\n",
    "# 拼接:24690=2+22+222+2222+22222\n",
    "print(f\"{get_sum}={'+'.join(str_list)}\")"
   ]
  },
  {
   "cell_type": "code",
   "execution_count": 12,
   "metadata": {},
   "outputs": [
    {
     "name": "stdout",
     "output_type": "stream",
     "text": [
      "1\n",
      "Hi 1\n"
     ]
    }
   ],
   "source": [
    "name = input()\n",
    "print('Hi',name)"
   ]
  },
  {
   "cell_type": "code",
   "execution_count": 16,
   "metadata": {},
   "outputs": [
    {
     "name": "stdout",
     "output_type": "stream",
     "text": [
      "Hello Jhon\n",
      "s--> 3\n",
      "1\n",
      "2\n",
      "3\n",
      "4\n",
      "5\n",
      "6\n",
      "1\n"
     ]
    }
   ],
   "source": [
    "# 空函数\n",
    "def my_empty():\n",
    "    pass\n",
    "\n",
    "# 无返回值\n",
    "def my_print(name):\n",
    "    print('Hello', name)\n",
    "\n",
    "# 有返回值\n",
    "def my_sum(x, y):\n",
    "    s = x + y\n",
    "    print('s-->', s)\n",
    "    return s\n",
    "    \n",
    "# 不定长参数\n",
    "def my_variable(*params):\n",
    "    for p in params:\n",
    "        print(p)\n",
    "\n",
    "# 匿名函数\n",
    "my_sub = lambda x, y: x - y\n",
    "\n",
    "my_empty()\n",
    "my_print('Jhon')\n",
    "result = my_sum(1, 2)\n",
    "my_variable(1, 2, 3, 4, 5, 6)\n",
    "print(my_sub(2, 1))"
   ]
  },
  {
   "cell_type": "code",
   "execution_count": 20,
   "metadata": {},
   "outputs": [
    {
     "name": "stdout",
     "output_type": "stream",
     "text": [
      "x输入1\n",
      "y输入1\n",
      "2\n"
     ]
    }
   ],
   "source": [
    "x = input(\"x输入\")\n",
    "a = int(x)\n",
    "y = input(\"y输入\")\n",
    "b = int(y)\n",
    "s = a+b\n",
    "print(s)"
   ]
  },
  {
   "cell_type": "code",
   "execution_count": 2,
   "metadata": {},
   "outputs": [],
   "source": [
    "!pip freeze > requirements.txt"
   ]
  },
  {
   "cell_type": "code",
   "execution_count": null,
   "metadata": {},
   "outputs": [],
   "source": []
  }
 ],
 "metadata": {
  "kernelspec": {
   "display_name": "Python 3",
   "language": "python",
   "name": "python3"
  },
  "language_info": {
   "codemirror_mode": {
    "name": "ipython",
    "version": 3
   },
   "file_extension": ".py",
   "mimetype": "text/x-python",
   "name": "python",
   "nbconvert_exporter": "python",
   "pygments_lexer": "ipython3",
   "version": "3.6.12"
  }
 },
 "nbformat": 4,
 "nbformat_minor": 4
}
